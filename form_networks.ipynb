{
 "cells": [
  {
   "cell_type": "markdown",
   "id": "87187398-0bce-4e00-ae6e-1758e311dc23",
   "metadata": {},
   "source": [
    "# Forming networks from co-occurence of genes in papers\n",
    "\n",
    "This notebook takes data obtained from pubmed, like in Obtaining_PubMed_data.ipynb. It uses sciscpacy's biological language model (plus some custom post-processing) to identify genes. Then, proximity in the paper is used to construct a network of gene associations."
   ]
  },
  {
   "cell_type": "code",
   "execution_count": 20,
   "id": "45dda14c-f4d3-40b5-b7a6-59458f5be03a",
   "metadata": {},
   "outputs": [],
   "source": [
    "import os\n",
    "import pandas as pd\n",
    "import numpy as np\n",
    "import scispacy\n",
    "import spacy\n",
    "\n",
    "import matplotlib.pyplot as plt"
   ]
  },
  {
   "cell_type": "code",
   "execution_count": 8,
   "id": "60218a73-9054-42b0-921b-f756febdb65b",
   "metadata": {},
   "outputs": [],
   "source": [
    "# Clean text of the paper bodies are store in papers/ for a small selection of papers.\n",
    "allpapers = os.listdir('papers')\n",
    "all_papers = []\n",
    "for p in allpapers:\n",
    "    with open('papers/'+p, 'r') as f:\n",
    "        all_papers.append(f.read())\n",
    "        \n"
   ]
  },
  {
   "cell_type": "code",
   "execution_count": 6,
   "id": "38b1798e-fd23-47ed-a8b5-faad80c10091",
   "metadata": {},
   "outputs": [],
   "source": [
    "nlp = spacy.load(\"en_ner_bionlp13cg_md\")"
   ]
  },
  {
   "cell_type": "code",
   "execution_count": 9,
   "id": "1bdfd886-8cec-4b0c-8539-dcb174890e25",
   "metadata": {},
   "outputs": [],
   "source": [
    "docs = [nlp(text) for text in all_papers]"
   ]
  },
  {
   "cell_type": "code",
   "execution_count": 17,
   "id": "2d16f051-5bd8-4def-9345-9893726c4594",
   "metadata": {},
   "outputs": [],
   "source": [
    "genes = []\n",
    "positions = []\n",
    "for ent in docs[2].ents:\n",
    "    if len(ent.text) > 2 and 'GENE' in ent.label_ and ent.text.isupper():\n",
    "        # print(f\"{ent.text:20s}, {ent.start_char:6}, {ent.end_char:6}, {ent.label_:20s}\")\n",
    "        genes.append(ent.text)\n",
    "        positions.append(ent.start_char)"
   ]
  },
  {
   "cell_type": "code",
   "execution_count": 26,
   "id": "8e15d529-e004-41a7-b96a-19ec231094e6",
   "metadata": {},
   "outputs": [
    {
     "data": {
      "text/html": [
       "<div>\n",
       "<style scoped>\n",
       "    .dataframe tbody tr th:only-of-type {\n",
       "        vertical-align: middle;\n",
       "    }\n",
       "\n",
       "    .dataframe tbody tr th {\n",
       "        vertical-align: top;\n",
       "    }\n",
       "\n",
       "    .dataframe thead th {\n",
       "        text-align: right;\n",
       "    }\n",
       "</style>\n",
       "<table border=\"1\" class=\"dataframe\">\n",
       "  <thead>\n",
       "    <tr style=\"text-align: right;\">\n",
       "      <th></th>\n",
       "      <th>COVID-19</th>\n",
       "      <th>COVID-19</th>\n",
       "      <th>COVID-19</th>\n",
       "      <th>COVID-19</th>\n",
       "      <th>COVID-19</th>\n",
       "      <th>R_{E</th>\n",
       "      <th>S_{U</th>\n",
       "      <th>R_{E</th>\n",
       "      <th>R_{E</th>\n",
       "      <th>R_{E</th>\n",
       "      <th>...</th>\n",
       "      <th>COVID</th>\n",
       "      <th>COVID</th>\n",
       "      <th>COVID-19</th>\n",
       "      <th>COVID-19</th>\n",
       "      <th>COVID-19</th>\n",
       "      <th>COVID-19</th>\n",
       "      <th>MIT</th>\n",
       "      <th>COVID-19</th>\n",
       "      <th>COVID-19</th>\n",
       "      <th>COVID-19</th>\n",
       "    </tr>\n",
       "  </thead>\n",
       "  <tbody>\n",
       "    <tr>\n",
       "      <th>COVID-19</th>\n",
       "      <td>0</td>\n",
       "      <td>778</td>\n",
       "      <td>1110</td>\n",
       "      <td>2280</td>\n",
       "      <td>2759</td>\n",
       "      <td>8765</td>\n",
       "      <td>8779</td>\n",
       "      <td>8793</td>\n",
       "      <td>8931</td>\n",
       "      <td>8945</td>\n",
       "      <td>...</td>\n",
       "      <td>111480</td>\n",
       "      <td>111512</td>\n",
       "      <td>112154</td>\n",
       "      <td>112253</td>\n",
       "      <td>112865</td>\n",
       "      <td>113613</td>\n",
       "      <td>115986</td>\n",
       "      <td>116408</td>\n",
       "      <td>116534</td>\n",
       "      <td>116927</td>\n",
       "    </tr>\n",
       "    <tr>\n",
       "      <th>COVID-19</th>\n",
       "      <td>-778</td>\n",
       "      <td>0</td>\n",
       "      <td>332</td>\n",
       "      <td>1502</td>\n",
       "      <td>1981</td>\n",
       "      <td>7987</td>\n",
       "      <td>8001</td>\n",
       "      <td>8015</td>\n",
       "      <td>8153</td>\n",
       "      <td>8167</td>\n",
       "      <td>...</td>\n",
       "      <td>110702</td>\n",
       "      <td>110734</td>\n",
       "      <td>111376</td>\n",
       "      <td>111475</td>\n",
       "      <td>112087</td>\n",
       "      <td>112835</td>\n",
       "      <td>115208</td>\n",
       "      <td>115630</td>\n",
       "      <td>115756</td>\n",
       "      <td>116149</td>\n",
       "    </tr>\n",
       "    <tr>\n",
       "      <th>COVID-19</th>\n",
       "      <td>-1110</td>\n",
       "      <td>-332</td>\n",
       "      <td>0</td>\n",
       "      <td>1170</td>\n",
       "      <td>1649</td>\n",
       "      <td>7655</td>\n",
       "      <td>7669</td>\n",
       "      <td>7683</td>\n",
       "      <td>7821</td>\n",
       "      <td>7835</td>\n",
       "      <td>...</td>\n",
       "      <td>110370</td>\n",
       "      <td>110402</td>\n",
       "      <td>111044</td>\n",
       "      <td>111143</td>\n",
       "      <td>111755</td>\n",
       "      <td>112503</td>\n",
       "      <td>114876</td>\n",
       "      <td>115298</td>\n",
       "      <td>115424</td>\n",
       "      <td>115817</td>\n",
       "    </tr>\n",
       "    <tr>\n",
       "      <th>COVID-19</th>\n",
       "      <td>-2280</td>\n",
       "      <td>-1502</td>\n",
       "      <td>-1170</td>\n",
       "      <td>0</td>\n",
       "      <td>479</td>\n",
       "      <td>6485</td>\n",
       "      <td>6499</td>\n",
       "      <td>6513</td>\n",
       "      <td>6651</td>\n",
       "      <td>6665</td>\n",
       "      <td>...</td>\n",
       "      <td>109200</td>\n",
       "      <td>109232</td>\n",
       "      <td>109874</td>\n",
       "      <td>109973</td>\n",
       "      <td>110585</td>\n",
       "      <td>111333</td>\n",
       "      <td>113706</td>\n",
       "      <td>114128</td>\n",
       "      <td>114254</td>\n",
       "      <td>114647</td>\n",
       "    </tr>\n",
       "    <tr>\n",
       "      <th>COVID-19</th>\n",
       "      <td>-2759</td>\n",
       "      <td>-1981</td>\n",
       "      <td>-1649</td>\n",
       "      <td>-479</td>\n",
       "      <td>0</td>\n",
       "      <td>6006</td>\n",
       "      <td>6020</td>\n",
       "      <td>6034</td>\n",
       "      <td>6172</td>\n",
       "      <td>6186</td>\n",
       "      <td>...</td>\n",
       "      <td>108721</td>\n",
       "      <td>108753</td>\n",
       "      <td>109395</td>\n",
       "      <td>109494</td>\n",
       "      <td>110106</td>\n",
       "      <td>110854</td>\n",
       "      <td>113227</td>\n",
       "      <td>113649</td>\n",
       "      <td>113775</td>\n",
       "      <td>114168</td>\n",
       "    </tr>\n",
       "  </tbody>\n",
       "</table>\n",
       "<p>5 rows × 65 columns</p>\n",
       "</div>"
      ],
      "text/plain": [
       "          COVID-19  COVID-19  COVID-19  COVID-19  COVID-19  R_{E  S_{U  R_{E  \\\n",
       "COVID-19         0       778      1110      2280      2759  8765  8779  8793   \n",
       "COVID-19      -778         0       332      1502      1981  7987  8001  8015   \n",
       "COVID-19     -1110      -332         0      1170      1649  7655  7669  7683   \n",
       "COVID-19     -2280     -1502     -1170         0       479  6485  6499  6513   \n",
       "COVID-19     -2759     -1981     -1649      -479         0  6006  6020  6034   \n",
       "\n",
       "          R_{E  R_{E  ...   COVID   COVID  COVID-19  COVID-19  COVID-19  \\\n",
       "COVID-19  8931  8945  ...  111480  111512    112154    112253    112865   \n",
       "COVID-19  8153  8167  ...  110702  110734    111376    111475    112087   \n",
       "COVID-19  7821  7835  ...  110370  110402    111044    111143    111755   \n",
       "COVID-19  6651  6665  ...  109200  109232    109874    109973    110585   \n",
       "COVID-19  6172  6186  ...  108721  108753    109395    109494    110106   \n",
       "\n",
       "          COVID-19     MIT  COVID-19  COVID-19  COVID-19  \n",
       "COVID-19    113613  115986    116408    116534    116927  \n",
       "COVID-19    112835  115208    115630    115756    116149  \n",
       "COVID-19    112503  114876    115298    115424    115817  \n",
       "COVID-19    111333  113706    114128    114254    114647  \n",
       "COVID-19    110854  113227    113649    113775    114168  \n",
       "\n",
       "[5 rows x 65 columns]"
      ]
     },
     "execution_count": 26,
     "metadata": {},
     "output_type": "execute_result"
    }
   ],
   "source": [
    "# Calculate distances\n",
    "pos1 = np.array(positions)\n",
    "pos2 = pos1.reshape(-1, 1)\n",
    "dists = pos1-pos2\n",
    "# Set diagonal to inf\n",
    "# dists[]\n",
    "# Make DataFrame\n",
    "dist_df = pd.DataFrame(dists, columns=genes, index=genes)\n",
    "\n",
    "# Flatten\n",
    "# dist_df.melt(id_vars=, var_name='distance')\n",
    "dist_df.head()"
   ]
  },
  {
   "cell_type": "code",
   "execution_count": 22,
   "id": "8dc4a5ac-2cc5-41f3-b341-8b0970b938b3",
   "metadata": {},
   "outputs": [
    {
     "data": {
      "text/plain": [
       "(array([256., 400., 306., 433., 685., 750., 433., 306., 400., 256.]),\n",
       " array([-116927. ,  -93541.6,  -70156.2,  -46770.8,  -23385.4,       0. ,\n",
       "          23385.4,   46770.8,   70156.2,   93541.6,  116927. ]),\n",
       " <BarContainer object of 10 artists>)"
      ]
     },
     "execution_count": 22,
     "metadata": {},
     "output_type": "execute_result"
    },
    {
     "data": {
      "image/png": "[encoded data removed]",
      "text/plain": [
       "<Figure size 432x288 with 1 Axes>"
      ]
     },
     "metadata": {
      "needs_background": "light"
     },
     "output_type": "display_data"
    }
   ],
   "source": [
    "plt.hist(dists.ravel())"
   ]
  },
  {
   "cell_type": "code",
   "execution_count": null,
   "id": "5c94ac5f-05f9-4640-a7f9-8ba1f1c50a7f",
   "metadata": {},
   "outputs": [],
   "source": []
  }
 ],
 "metadata": {
  "kernelspec": {
   "display_name": "Python 3 (ipykernel)",
   "language": "python",
   "name": "python3"
  },
  "language_info": {
   "codemirror_mode": {
    "name": "ipython",
    "version": 3
   },
   "file_extension": ".py",
   "mimetype": "text/x-python",
   "name": "python",
   "nbconvert_exporter": "python",
   "pygments_lexer": "ipython3",
   "version": "3.9.7"
  }
 },
 "nbformat": 4,
 "nbformat_minor": 5
}

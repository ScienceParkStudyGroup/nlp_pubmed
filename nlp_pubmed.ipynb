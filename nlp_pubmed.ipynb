{
 "cells": [
  {
   "cell_type": "code",
   "execution_count": 1,
   "id": "8cab4f15-9e28-48c5-983b-52697efb80df",
   "metadata": {},
   "outputs": [],
   "source": [
    "import pandas as pd\n",
    "import requests\n",
    "import xml.etree.cElementTree as et"
   ]
  },
  {
   "cell_type": "markdown",
   "id": "f67acc03-09c5-45fa-b09f-cc97b75115ff",
   "metadata": {},
   "source": [
    "# Get list of paper ids from Europe PMC Open Access\n",
    "\n",
    "GET https://www.ebi.ac.uk/europepmc/webservices/rest/fields\n",
    "\n",
    ":warning: check that the number of papers retrieved because it seeems very low."
   ]
  },
  {
   "cell_type": "code",
   "execution_count": 10,
   "id": "29418108-3ba4-4ac9-bf19-0c93722ab1bc",
   "metadata": {},
   "outputs": [],
   "source": [
    "response = requests.get(\"https://www.ebi.ac.uk/europepmc/webservices/rest/search?query=p53\")"
   ]
  },
  {
   "cell_type": "code",
   "execution_count": 11,
   "id": "72067c3e-af8e-46ac-bc6b-edef48497ebd",
   "metadata": {},
   "outputs": [],
   "source": [
    "data = response.content.decode()"
   ]
  },
  {
   "cell_type": "code",
   "execution_count": 12,
   "id": "21d4962b-24d5-4011-9a8b-3d8ea3b9f724",
   "metadata": {},
   "outputs": [
    {
     "data": {
      "text/plain": [
       "['PMC8595718',\n",
       " 'PMC8595300',\n",
       " 'PMC8584119',\n",
       " 'PMC8572175',\n",
       " 'PMC8586238',\n",
       " 'PMC8615514',\n",
       " 'PMC8590685',\n",
       " 'PMC8580964',\n",
       " 'PMC8601985',\n",
       " 'PMC8571953',\n",
       " 'PMC8550248']"
      ]
     },
     "execution_count": 12,
     "metadata": {},
     "output_type": "execute_result"
    }
   ],
   "source": [
    "# Parse XML and extract sensible tags\n",
    "root = et.XML(data)\n",
    "\n",
    "IDs = []\n",
    "for pmc in root.iter(\"pmcid\"):\n",
    "    IDs.append(pmc.text)\n",
    "\n",
    "IDs"
   ]
  },
  {
   "cell_type": "code",
   "execution_count": 7,
   "id": "b68435bd-be6a-45bd-9363-ffe9a01da73e",
   "metadata": {},
   "outputs": [
    {
     "data": {
      "text/plain": [
       "11"
      ]
     },
     "execution_count": 7,
     "metadata": {},
     "output_type": "execute_result"
    }
   ],
   "source": [
    "pmcids = []\n",
    "for pmcid in root.iter(\"pmcid\"):\n",
    "    pmcids.append(pmcid.text)\n",
    "len(pmcids)"
   ]
  },
  {
   "cell_type": "code",
   "execution_count": null,
   "id": "2caef993-7b2e-40a9-b5b9-0462e6097413",
   "metadata": {},
   "outputs": [],
   "source": []
  },
  {
   "cell_type": "markdown",
   "id": "32ffed89-d3ec-4749-a506-a156d0316745",
   "metadata": {},
   "source": [
    "# Get full processed text per paper"
   ]
  },
  {
   "cell_type": "markdown",
   "id": "891946ad-d847-44d7-80eb-c7f32f569cf6",
   "metadata": {},
   "source": [
    "1) for each paper, retrieve the full text\n",
    "2) download + load the language model from scispacy\n",
    "3) process the text = remove the most frequent terms, etc. "
   ]
  },
  {
   "cell_type": "code",
   "execution_count": null,
   "id": "d46a6066-a11a-40f0-bb17-fd6098287b7f",
   "metadata": {},
   "outputs": [],
   "source": []
  }
 ],
 "metadata": {
  "kernelspec": {
   "display_name": "Python 3",
   "language": "python",
   "name": "python3"
  },
  "language_info": {
   "codemirror_mode": {
    "name": "ipython",
    "version": 3
   },
   "file_extension": ".py",
   "mimetype": "text/x-python",
   "name": "python",
   "nbconvert_exporter": "python",
   "pygments_lexer": "ipython3",
   "version": "3.6.13"
  }
 },
 "nbformat": 4,
 "nbformat_minor": 5
}

{
 "cells": [
  {
   "cell_type": "code",
   "execution_count": 1,
   "id": "8cab4f15-9e28-48c5-983b-52697efb80df",
   "metadata": {},
   "outputs": [],
   "source": [
    "import pandas as pd\n",
    "import requests\n",
    "from lxml import etree"
   ]
  },
  {
   "cell_type": "markdown",
   "id": "f67acc03-09c5-45fa-b09f-cc97b75115ff",
   "metadata": {},
   "source": [
    "# Get list of paper ids from Europe PMC Open Access\n",
    "\n",
    "GET https://www.ebi.ac.uk/europepmc/webservices/rest/fields\n",
    "\n",
    ":warning: check that the number of papers retrieved because it seeems very low."
   ]
  },
  {
   "cell_type": "code",
   "execution_count": 23,
   "id": "b35178a4-3fff-4ff8-97e9-b70ddb7e8575",
   "metadata": {},
   "outputs": [],
   "source": [
    "def searchEuropePMCclient(query, format='XML',sort='CITED asc'):\n",
    "    '''\n",
    "    Search Europe PMC using the REST service with a query term\n",
    "    \n",
    "    Params\n",
    "    -----\n",
    "    query: str\n",
    "      a word definying the query such as 'covid-19'. Enclose your term in quotes for exact terms : \"covid-19 virus\"\n",
    "    format: XML or JSON\n",
    "      the format in which to return the results. Default is XML.\n",
    "    sort: \"CITED asc\" or \"CITED desc\"\n",
    "      sort results by citation numbers (ascending or descending order\n",
    "    \n",
    "    Returns\n",
    "    ------\n",
    "    \n",
    "    '''\n",
    "    base_url = \"https://www.ebi.ac.uk/europepmc/webservices/rest/search?\"\n",
    "    payload = {\"query\": query, \"format\": format, \"sort\": sort}\n",
    "    # REST request\n",
    "    result = requests.get(base_url, params=payload)\n",
    "    if result.ok:\n",
    "        return result.content.decode(\"UTF-8\")\n",
    "    else:\n",
    "        print(\"Something went wrong with your query, please try again.\")"
   ]
  },
  {
   "cell_type": "code",
   "execution_count": 25,
   "id": "d46a6066-a11a-40f0-bb17-fd6098287b7f",
   "metadata": {},
   "outputs": [],
   "source": [
    "res = searchEuropePMCclient(\"covid-19\", format=\"XML\")"
   ]
  },
  {
   "cell_type": "code",
   "execution_count": 36,
   "id": "1d78d9d1-3fba-4eb9-84f0-71eaa66a7722",
   "metadata": {},
   "outputs": [
    {
     "data": {
      "text/plain": [
       "'?xml version=\"1.0\" encoding=\"UTF-8\" standalone=\"yes\"?><responseWrapper xmlns:slx=\"http://www.scholix.org\" xmlns:epmc=\"https://www.europepmc.org/data\"><version>6.7</version><hitCount>319176</hitCount><nextCursorMark>AoIGAAAAACc4NDEwMzcy</nextCursorMark><nextPageUrl>https://www.ebi.ac.uk/europepmc/webservices/rest/search?query=covid-19&amp;cursorMark=AoIGAAAAACc4NDEwMzcy&amp;resultType=lite&amp;sort=CITED asc&amp;format=XML</nextPageUrl><request><queryString>covid-19</queryString><resultType>lite</resultType><cursorMark>*</cursorMark><pageSize>25</pageSize><sort>CITED asc</sort><synonym>false</synonym></request><resultList><result><id>7714047</id><source>MED</source><pmid>7714047</pmid><pmcid>PMC7119785</pmcid><fullTextIdList><fullTextId>PMC7119785</fullTextId></fullTextIdList><doi>10.1016/0166-0934(94)90180-5</doi><title>Increased viral titers and enhanced reactivity of antibodies to the spike glycoprotein of murine coronavirus produced by infection at pH 6.</title><authorString>Daniel'"
      ]
     },
     "execution_count": 36,
     "metadata": {},
     "output_type": "execute_result"
    }
   ],
   "source": [
    "# 'res' is a string -> First 1000 characters\n",
    "res[1:1000]"
   ]
  },
  {
   "cell_type": "markdown",
   "id": "12d333ed-89ad-4664-a8fc-e745a0b3b92a",
   "metadata": {},
   "source": [
    "# Experiment wellcomeml client"
   ]
  },
  {
   "cell_type": "code",
   "execution_count": 26,
   "id": "e710b910-db02-4a43-a8c3-657471b077d8",
   "metadata": {},
   "outputs": [
    {
     "data": {
      "text/plain": [
       "'2.0.1'"
      ]
     },
     "execution_count": 26,
     "metadata": {},
     "output_type": "execute_result"
    }
   ],
   "source": [
    "import wellcomeml # installed using pip install wellcomeml with 'nlp' conda activated env\n",
    "wellcomeml.__version__"
   ]
  },
  {
   "cell_type": "code",
   "execution_count": 27,
   "id": "c4dfea6b-deab-4b6f-8c32-04f593dd0825",
   "metadata": {},
   "outputs": [],
   "source": [
    "from wellcomeml.io import EPMCClient"
   ]
  },
  {
   "cell_type": "code",
   "execution_count": 28,
   "id": "40f48fca-0468-4689-bbd1-c0f110e98c2a",
   "metadata": {},
   "outputs": [],
   "source": [
    "epmc_client = EPMCClient(max_retries=3)\n",
    "session = epmc_client.requests_session()"
   ]
  },
  {
   "cell_type": "code",
   "execution_count": 45,
   "id": "cdc6e168-446c-4e0d-ab70-cbdcf3633f58",
   "metadata": {},
   "outputs": [
    {
     "name": "stderr",
     "output_type": "stream",
     "text": [
      "2021-12-03 15:16:35 wellcomeml.io.epmc.client WARNING: Only returning first entry of search as a dictionary. Will be deprecated in the future and a list of arguments will be returned by default.\n"
     ]
    },
    {
     "data": {
      "text/plain": [
       "'SlMYC1 Regulates Type VI Glandular Trichome Formation and Terpene Biosynthesis in Tomato Glandular Cells.'"
      ]
     },
     "execution_count": 45,
     "metadata": {},
     "output_type": "execute_result"
    }
   ],
   "source": [
    "paper = epmc_client.search_by_pmid(session, pmid=30518626)\n",
    "paper[\"title\"]"
   ]
  },
  {
   "cell_type": "code",
   "execution_count": 46,
   "id": "0ffcce47-121c-45dd-a033-4f4b5916c46a",
   "metadata": {},
   "outputs": [
    {
     "name": "stderr",
     "output_type": "stream",
     "text": [
      "2021-12-03 15:17:49 wellcomeml.io.epmc.client INFO: epmc.get_full_text: http-404 pmid=30518626\n"
     ]
    }
   ],
   "source": [
    "epmc_client.get_full_text(session, pmid=30518626)"
   ]
  },
  {
   "cell_type": "code",
   "execution_count": null,
   "id": "45484542-68fe-4b54-85d7-19e5647f300a",
   "metadata": {},
   "outputs": [],
   "source": []
  }
 ],
 "metadata": {
  "kernelspec": {
   "display_name": "Python 3",
   "language": "python",
   "name": "python3"
  },
  "language_info": {
   "codemirror_mode": {
    "name": "ipython",
    "version": 3
   },
   "file_extension": ".py",
   "mimetype": "text/x-python",
   "name": "python",
   "nbconvert_exporter": "python",
   "pygments_lexer": "ipython3",
   "version": "3.6.13"
  }
 },
 "nbformat": 4,
 "nbformat_minor": 5
}

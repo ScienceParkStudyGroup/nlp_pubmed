{
 "cells": [
  {
   "cell_type": "markdown",
   "id": "d62f4f83-928d-4bc8-bcd1-938b1c72a967",
   "metadata": {},
   "source": [
    "# Parse PubMed data in order to get plain text of relevant papers\n",
    "\n",
    "Through the URLs below, PubMed data can be ontained interactively. The idea here is to select papers based on keywords (and perhaps dates, ...) in a first query that results in PMC IDs. After that, the full text of those publications can be ontained one-by-one.\n",
    "\n",
    "These texts can be analyzed by scispacy language modesl that include POS tagging for biological/scienti"
   ]
  },
  {
   "cell_type": "code",
   "execution_count": 3,
   "id": "a7d9fdb1-43d8-4dd7-ac9c-b81cb566a2cf",
   "metadata": {},
   "outputs": [],
   "source": [
    "import pandas as pd\n",
    "import scispacy\n",
    "\n",
    "from utils import perform_query, extract_clean, retrieve_paper\n"
   ]
  },
  {
   "cell_type": "markdown",
   "id": "e6cd1c5a-6b2d-4deb-858b-1196890ba01d",
   "metadata": {},
   "source": [
    "## Obtain and process data\n",
    "Steps:\n",
    "1. Define a query to search papers\n",
    "2. Call API with that query to obtain all PMC IDs for that query\n",
    "3. Read the full content of tyhose papers one by one\n",
    "4. Pre-process the full text\n",
    "5. Run language model on clean text of body of paper"
   ]
  },
  {
   "cell_type": "code",
   "execution_count": 42,
   "id": "557a12a1-d11c-4c22-925a-a3c0a09882e3",
   "metadata": {},
   "outputs": [
    {
     "name": "stdout",
     "output_type": "stream",
     "text": [
      "['PMC8607916', 'PMC8562401', 'PMC8563347', 'PMC8590950', 'PMC8575090', 'PMC8563592', 'PMC8493542', 'PMC8610737', 'PMC8498363', 'PMC8571104', 'PMC8610734', 'PMC8495000', 'PMC8558759', 'PMC8613003', 'PMC8612724', 'PMC8600803', 'PMC8476974', 'PMC8595926', 'PMC8590489', 'PMC8612713', 'PMC7801096', 'PMC8479323', 'PMC7784826']\n"
     ]
    },
    {
     "data": {
      "text/plain": [
       "23"
      ]
     },
     "execution_count": 42,
     "metadata": {},
     "output_type": "execute_result"
    }
   ],
   "source": [
    "query = 'covid-19'\n",
    "IDs = perform_query(query)\n",
    "\n",
    "all_papers = []\n",
    "for ID in IDs:\n",
    "    content = retrieve_paper(ID)\n",
    "    cleantext = extract_clean(content)"
   ]
  },
  {
   "cell_type": "code",
   "execution_count": null,
   "id": "2b434089-8e19-4a43-b567-1eec8f0ad106",
   "metadata": {},
   "outputs": [],
   "source": []
  },
  {
   "cell_type": "code",
   "execution_count": null,
   "id": "7943ae60-aa68-4a68-a791-171736de7ed5",
   "metadata": {},
   "outputs": [],
   "source": []
  },
  {
   "cell_type": "code",
   "execution_count": null,
   "id": "91b74cd1-ea09-4944-afc6-cbdb1196c85d",
   "metadata": {},
   "outputs": [],
   "source": []
  },
  {
   "cell_type": "code",
   "execution_count": null,
   "id": "966422bc-fb5c-421f-9947-28a8668522cd",
   "metadata": {},
   "outputs": [],
   "source": []
  }
 ],
 "metadata": {
  "kernelspec": {
   "display_name": "Python 3 (ipykernel)",
   "language": "python",
   "name": "python3"
  },
  "language_info": {
   "codemirror_mode": {
    "name": "ipython",
    "version": 3
   },
   "file_extension": ".py",
   "mimetype": "text/x-python",
   "name": "python",
   "nbconvert_exporter": "python",
   "pygments_lexer": "ipython3",
   "version": "3.9.7"
  }
 },
 "nbformat": 4,
 "nbformat_minor": 5
}

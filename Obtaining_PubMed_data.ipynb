{
 "cells": [
  {
   "cell_type": "markdown",
   "id": "d62f4f83-928d-4bc8-bcd1-938b1c72a967",
   "metadata": {},
   "source": [
    "# Parse PubMed data in order to get plain text of relevant papers\n",
    "\n",
    "Through the URLs below, PubMed data can be ontained interactively. The idea here is to select papers based on keywords (and perhaps dates, ...) in a first query that results in PMC IDs. After that, the full text of those publications can be ontained one-by-one.\n",
    "\n",
    "These texts can be analyzed by scispacy language modesl that include POS tagging for biological/scienti"
   ]
  },
  {
   "cell_type": "code",
   "execution_count": 1,
   "id": "a7d9fdb1-43d8-4dd7-ac9c-b81cb566a2cf",
   "metadata": {},
   "outputs": [],
   "source": [
    "import pandas as pd\n",
    "import scispacy\n",
    "import spacy\n",
    "\n",
    "from utils import perform_query, extract_clean, retrieve_paper\n"
   ]
  },
  {
   "cell_type": "markdown",
   "id": "e6cd1c5a-6b2d-4deb-858b-1196890ba01d",
   "metadata": {},
   "source": [
    "## Obtain and process data\n",
    "Steps:\n",
    "1. Define a query to search papers\n",
    "2. Call API with that query to obtain all PMC IDs for that query\n",
    "3. Read the full content of tyhose papers one by one\n",
    "4. Pre-process the full text\n",
    "5. Run language model on clean text of body of paper"
   ]
  },
  {
   "cell_type": "markdown",
   "id": "3459d762-dd22-43b0-b8b5-c3f4f71e0155",
   "metadata": {},
   "source": [
    "__TODO:__ indicate the PMCID if no body is retrieved. Case where only the abstract is available?  \n",
    "__TODO:__ add a parameter to the query "
   ]
  },
  {
   "cell_type": "code",
   "execution_count": null,
   "id": "557a12a1-d11c-4c22-925a-a3c0a09882e3",
   "metadata": {},
   "outputs": [
    {
     "name": "stdout",
     "output_type": "stream",
     "text": [
      "Can't find the body, returning nothing!\n",
      "Can't find the body, returning nothing!\n",
      "Can't find the body, returning nothing!\n",
      "Can't find the body, returning nothing!\n",
      "Can't find the body, returning nothing!\n",
      "Can't find the body, returning nothing!\n",
      "Can't find the body, returning nothing!\n",
      "Can't find the body, returning nothing!\n",
      "Can't find the body, returning nothing!\n",
      "Can't find the body, returning nothing!\n"
     ]
    }
   ],
   "source": [
    "query = 'tomato%20trichome'\n",
    "#query = 'tomato'\n",
    "\n",
    "IDs = perform_query(query, page_size=1000)\n",
    "\n",
    "all_papers = []\n",
    "for ID in IDs:\n",
    "    content = retrieve_paper(ID)\n",
    "    cleantext = extract_clean(content)\n",
    "    all_papers.append(cleantext)"
   ]
  },
  {
   "cell_type": "code",
   "execution_count": null,
   "id": "82de6b3d-5610-4923-ba31-67985b81652a",
   "metadata": {},
   "outputs": [],
   "source": [
    "len(IDs)"
   ]
  },
  {
   "cell_type": "code",
   "execution_count": null,
   "id": "2b434089-8e19-4a43-b567-1eec8f0ad106",
   "metadata": {},
   "outputs": [],
   "source": [
    "# how to load: en_ner_bionlp13cg_md-0.4.0.tar.gz\n",
    "nlp = spacy.load(name = \"en_ner_bionlp13cg_md\")"
   ]
  },
  {
   "cell_type": "code",
   "execution_count": null,
   "id": "7943ae60-aa68-4a68-a791-171736de7ed5",
   "metadata": {},
   "outputs": [],
   "source": [
    "docs = [nlp(text) for text in all_papers]"
   ]
  },
  {
   "cell_type": "code",
   "execution_count": null,
   "id": "91b74cd1-ea09-4944-afc6-cbdb1196c85d",
   "metadata": {},
   "outputs": [],
   "source": [
    "len(docs)"
   ]
  },
  {
   "cell_type": "markdown",
   "id": "00d33fec-7e65-4529-9eaf-10dced600a30",
   "metadata": {},
   "source": [
    "This section returns the word, its start and end position of a word together with its label. "
   ]
  },
  {
   "cell_type": "code",
   "execution_count": null,
   "id": "966422bc-fb5c-421f-9947-28a8668522cd",
   "metadata": {},
   "outputs": [],
   "source": [
    "#for ent in docs[2].ents:\n",
    "#    print(f\"{ent.text:20s}, {ent.start_char:6}, {ent.end_char:6}, {ent.label_:20s}\")"
   ]
  },
  {
   "cell_type": "code",
   "execution_count": null,
   "id": "2e0a3e3d-e49d-420a-99dc-6fe725746e76",
   "metadata": {},
   "outputs": [],
   "source": [
    "for ent in docs[2].ents:\n",
    "    # Gene symbols appear in the text as complete upper case words\n",
    "    if \"GENE\" in ent.label_ and ent.text.isupper() and len(ent.text) > 2:\n",
    "        print(f\"{ent.text:20s}, {ent.start_char:6}, {ent.end_char:6}, {ent.label_:20s}\")"
   ]
  },
  {
   "cell_type": "markdown",
   "id": "e1f8347f-6495-41bc-bfa7-686f3d17f01d",
   "metadata": {},
   "source": [
    "# Calculate distance matrix between terms based on the whole document"
   ]
  },
  {
   "cell_type": "markdown",
   "id": "9a0da0a8-2276-49c4-b303-da0e2994ee8a",
   "metadata": {},
   "source": [
    "## Compute a distance matrix from the terms start positions"
   ]
  },
  {
   "cell_type": "code",
   "execution_count": null,
   "id": "5d2268f9-bebe-4dd8-9a33-f846843eac3b",
   "metadata": {},
   "outputs": [],
   "source": []
  },
  {
   "cell_type": "markdown",
   "id": "de10bbe3-5cc2-42dd-b60a-53dc93eb214b",
   "metadata": {},
   "source": [
    "## "
   ]
  },
  {
   "cell_type": "code",
   "execution_count": null,
   "id": "d80172cc-ba34-4563-963e-721dc8d71064",
   "metadata": {},
   "outputs": [],
   "source": []
  },
  {
   "cell_type": "code",
   "execution_count": null,
   "id": "f2cb258c-7a3b-4548-ab95-cb4f4e2a1017",
   "metadata": {},
   "outputs": [],
   "source": []
  },
  {
   "cell_type": "markdown",
   "id": "0eebd298-2931-4279-afe0-40d630c4fe8d",
   "metadata": {},
   "source": [
    "# Combine distance information with syntax sentence syntax information\n",
    "\n",
    "__Goal:__ give a direction or a sign to each edge in the network. For instance:   \n",
    "- Is gene A positively or negatively regulated by gene B?   \n",
    "- Is the level/activity of gene A neg/pos influenced by gene B?  \n",
    "This information should come from verbs occuring in sentences where A and B occur together.   \n",
    "\n",
    "Steps:   \n",
    "- label the verbs manually. \n",
    "- train a model to assign a positive/negative regulation.  "
   ]
  },
  {
   "cell_type": "code",
   "execution_count": null,
   "id": "561f2aa2-44dd-4d70-861c-4e314fc81e80",
   "metadata": {},
   "outputs": [],
   "source": [
    "for token in docs[2][100:110]:\n",
    "    print(token.text, token.lemma_, token.pos_, token.tag_, token.dep_,\n",
    "            token.shape_, token.is_alpha, token.is_stop)"
   ]
  },
  {
   "cell_type": "markdown",
   "id": "d4855578-202a-4c05-b051-44151c2a7732",
   "metadata": {},
   "source": []
  }
 ],
 "metadata": {
  "kernelspec": {
   "display_name": "Python 3",
   "language": "python",
   "name": "python3"
  },
  "language_info": {
   "codemirror_mode": {
    "name": "ipython",
    "version": 3
   },
   "file_extension": ".py",
   "mimetype": "text/x-python",
   "name": "python",
   "nbconvert_exporter": "python",
   "pygments_lexer": "ipython3",
   "version": "3.6.13"
  }
 },
 "nbformat": 4,
 "nbformat_minor": 5
}

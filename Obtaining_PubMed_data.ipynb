{
 "cells": [
  {
   "cell_type": "markdown",
   "id": "d62f4f83-928d-4bc8-bcd1-938b1c72a967",
   "metadata": {},
   "source": [
    "# Parse PubMed data in order to get plain text of relevant papers\n",
    "\n",
    "Through the URLs below, PubMed data can be ontained interactively. The idea here is to select papers based on keywords (and perhaps dates, ...) in a first query that results in PMC IDs. After that, the full text of those publications can be ontained one-by-one.\n",
    "\n",
    "These texts can be analyzed by scispacy language modesl that include POS tagging for biological/scienti"
   ]
  },
  {
   "cell_type": "code",
   "execution_count": 19,
   "id": "a7d9fdb1-43d8-4dd7-ac9c-b81cb566a2cf",
   "metadata": {},
   "outputs": [],
   "source": [
    "import pandas as pd\n",
    "import scispacy\n",
    "import spacy\n",
    "\n",
    "from utils import perform_query, extract_clean, retrieve_paper\n"
   ]
  },
  {
   "cell_type": "markdown",
   "id": "e6cd1c5a-6b2d-4deb-858b-1196890ba01d",
   "metadata": {},
   "source": [
    "## Obtain and process data\n",
    "Steps:\n",
    "1. Define a query to search papers\n",
    "2. Call API with that query to obtain all PMC IDs for that query\n",
    "3. Read the full content of tyhose papers one by one\n",
    "4. Pre-process the full text\n",
    "5. Run language model on clean text of body of paper"
   ]
  },
  {
   "cell_type": "markdown",
   "id": "3459d762-dd22-43b0-b8b5-c3f4f71e0155",
   "metadata": {},
   "source": [
    "TODO: indicate the PMCID if no body is retrieved. Case where only the abstract is available?"
   ]
  },
  {
   "cell_type": "code",
   "execution_count": 20,
   "id": "557a12a1-d11c-4c22-925a-a3c0a09882e3",
   "metadata": {},
   "outputs": [],
   "source": [
    "query = 'tomato%20trichome'\n",
    "IDs = perform_query(query)\n",
    "\n",
    "all_papers = []\n",
    "for ID in IDs:\n",
    "    content = retrieve_paper(ID)\n",
    "    cleantext = extract_clean(content)\n",
    "    all_papers.append(cleantext)"
   ]
  },
  {
   "cell_type": "code",
   "execution_count": 22,
   "id": "82de6b3d-5610-4923-ba31-67985b81652a",
   "metadata": {},
   "outputs": [
    {
     "data": {
      "text/plain": [
       "12"
      ]
     },
     "execution_count": 22,
     "metadata": {},
     "output_type": "execute_result"
    }
   ],
   "source": [
    "len(IDs)"
   ]
  },
  {
   "cell_type": "code",
   "execution_count": 23,
   "id": "2b434089-8e19-4a43-b567-1eec8f0ad106",
   "metadata": {},
   "outputs": [],
   "source": [
    "# how to load: en_ner_bionlp13cg_md-0.4.0.tar.gz\n",
    "nlp = spacy.load(name = \"en_ner_bionlp13cg_md\")"
   ]
  },
  {
   "cell_type": "code",
   "execution_count": 24,
   "id": "7943ae60-aa68-4a68-a791-171736de7ed5",
   "metadata": {},
   "outputs": [],
   "source": [
    "docs = [nlp(text) for text in all_papers]"
   ]
  },
  {
   "cell_type": "code",
   "execution_count": 25,
   "id": "91b74cd1-ea09-4944-afc6-cbdb1196c85d",
   "metadata": {},
   "outputs": [
    {
     "data": {
      "text/plain": [
       "12"
      ]
     },
     "execution_count": 25,
     "metadata": {},
     "output_type": "execute_result"
    }
   ],
   "source": [
    "len(docs)"
   ]
  },
  {
   "cell_type": "markdown",
   "id": "00d33fec-7e65-4529-9eaf-10dced600a30",
   "metadata": {},
   "source": [
    "This section returns the word, its start and end position of a word together with its label. "
   ]
  },
  {
   "cell_type": "code",
   "execution_count": 17,
   "id": "966422bc-fb5c-421f-9947-28a8668522cd",
   "metadata": {},
   "outputs": [],
   "source": [
    "#for ent in docs[2].ents:\n",
    "#    print(f\"{ent.text:20s}, {ent.start_char:6}, {ent.end_char:6}, {ent.label_:20s}\")"
   ]
  },
  {
   "cell_type": "code",
   "execution_count": 28,
   "id": "2e0a3e3d-e49d-420a-99dc-6fe725746e76",
   "metadata": {},
   "outputs": [
    {
     "name": "stdout",
     "output_type": "stream",
     "text": [
      "TTG1                ,   1128,   1132, GENE_OR_GENE_PRODUCT\n",
      "ABA                 ,   2018,   2021, GENE_OR_GENE_PRODUCT\n",
      "PAG1                ,   3890,   3894, GENE_OR_GENE_PRODUCT\n",
      "AA335470 (          ,   4652,   4662, GENE_OR_GENE_PRODUCT\n",
      "AA629630            ,   4890,   4898, GENE_OR_GENE_PRODUCT\n",
      "AA503070            ,   4928,   4936, GENE_OR_GENE_PRODUCT\n",
      "AA615110 (          ,   4941,   4951, GENE_OR_GENE_PRODUCT\n",
      "ARF                 ,   6974,   6977, GENE_OR_GENE_PRODUCT\n",
      "ARF                 ,   7326,   7329, GENE_OR_GENE_PRODUCT\n",
      "ARF3                ,   7971,   7975, GENE_OR_GENE_PRODUCT\n",
      "PIN2                ,   8178,   8182, GENE_OR_GENE_PRODUCT\n",
      "TTG2                ,   8523,   8527, GENE_OR_GENE_PRODUCT\n",
      "AOS                 ,   9835,   9838, GENE_OR_GENE_PRODUCT\n",
      "JASMONATE-ZIM DOMAIN,  10195,  10215, GENE_OR_GENE_PRODUCT\n",
      "JAZ                 ,  10217,  10220, GENE_OR_GENE_PRODUCT\n",
      "JAZ                 ,  10332,  10335, GENE_OR_GENE_PRODUCT\n",
      "JAZ                 ,  10416,  10419, GENE_OR_GENE_PRODUCT\n",
      "JAZ                 ,  10513,  10516, GENE_OR_GENE_PRODUCT\n",
      "GL3/EGL3            ,  10632,  10640, GENE_OR_GENE_PRODUCT\n",
      "GL1                 ,  10642,  10645, GENE_OR_GENE_PRODUCT\n",
      "TTG1                ,  10650,  10654, GENE_OR_GENE_PRODUCT\n",
      "HDZIP               ,  10745,  10750, GENE_OR_GENE_PRODUCT\n",
      "MYB                 ,  10829,  10832, GENE_OR_GENE_PRODUCT\n",
      "HDZIP               ,  10935,  10940, GENE_OR_GENE_PRODUCT\n",
      "HDZIP               ,  11128,  11133, GENE_OR_GENE_PRODUCT\n",
      "CYCD                ,  11364,  11368, GENE_OR_GENE_PRODUCT\n",
      "CDKA                ,  11399,  11403, GENE_OR_GENE_PRODUCT\n",
      "BMW                 ,  11902,  11905, GENE_OR_GENE_PRODUCT\n",
      "GL1                 ,  12316,  12319, GENE_OR_GENE_PRODUCT\n",
      "ZFP8                ,  13388,  13392, GENE_OR_GENE_PRODUCT\n",
      "ZFP8                ,  13454,  13458, GENE_OR_GENE_PRODUCT\n",
      "GIS2                ,  13463,  13467, GENE_OR_GENE_PRODUCT\n",
      "GIS3                ,  13483,  13487, GENE_OR_GENE_PRODUCT\n",
      "ZFP6                ,  13534,  13538, GENE_OR_GENE_PRODUCT\n",
      "GIS3                ,  13651,  13655, GENE_OR_GENE_PRODUCT\n",
      "ZFP6                ,  13660,  13664, GENE_OR_GENE_PRODUCT\n",
      "BMW                 ,  13791,  13794, GENE_OR_GENE_PRODUCT\n",
      "TCL1                ,  13828,  13832, GENE_OR_GENE_PRODUCT\n",
      "TCL1                ,  13913,  13917, GENE_OR_GENE_PRODUCT\n",
      "PAG1                ,  16631,  16635, GENE_OR_GENE_PRODUCT\n",
      "PAG1                ,  16763,  16767, GENE_OR_GENE_PRODUCT\n",
      "BZR1                ,  18373,  18377, GENE_OR_GENE_PRODUCT\n",
      "ARR1                ,  19409,  19413, GENE_OR_GENE_PRODUCT\n",
      "ARR2                ,  19415,  19419, GENE_OR_GENE_PRODUCT\n",
      "ARR10               ,  19421,  19426, GENE_OR_GENE_PRODUCT\n",
      "ARR12               ,  19431,  19436, GENE_OR_GENE_PRODUCT\n",
      "SPL9                ,  19467,  19471, GENE_OR_GENE_PRODUCT\n",
      "SPL10               ,  19476,  19481, GENE_OR_GENE_PRODUCT\n",
      "SPL9                ,  19534,  19538, GENE_OR_GENE_PRODUCT\n",
      "SPL10               ,  19544,  19549, GENE_OR_GENE_PRODUCT\n",
      "ARR2                ,  19606,  19610, GENE_OR_GENE_PRODUCT\n",
      "SPL9                ,  19619,  19623, GENE_OR_GENE_PRODUCT\n",
      "TRY                 ,  19720,  19723, GENE_OR_GENE_PRODUCT\n",
      "TCL1                ,  19728,  19732, GENE_OR_GENE_PRODUCT\n",
      "ARR2                ,  19754,  19758, GENE_OR_GENE_PRODUCT\n",
      "GL3A                ,  19885,  19889, GENE_OR_GENE_PRODUCT\n",
      "ARR5                ,  20021,  20025, GENE_OR_GENE_PRODUCT\n",
      "GIS3                ,  20144,  20148, GENE_OR_GENE_PRODUCT\n",
      "GUS                 ,  20179,  20182, GENE_OR_GENE_PRODUCT\n",
      "GUS                 ,  20289,  20292, GENE_OR_GENE_PRODUCT\n",
      "GIS3                ,  20344,  20348, GENE_OR_GENE_PRODUCT\n",
      "GIS3                ,  20386,  20390, GENE_OR_GENE_PRODUCT\n",
      "GIS2                ,  20408,  20412, GENE_OR_GENE_PRODUCT\n",
      "GIS2                ,  20544,  20548, GENE_OR_GENE_PRODUCT\n",
      "ZFP5                ,  20610,  20614, GENE_OR_GENE_PRODUCT\n",
      "ZFP6                ,  20616,  20620, GENE_OR_GENE_PRODUCT\n",
      "ZFP8                ,  20622,  20626, GENE_OR_GENE_PRODUCT\n",
      "GIS2                ,  20633,  20637, GENE_OR_GENE_PRODUCT\n",
      "GIS3                ,  20642,  20646, GENE_OR_GENE_PRODUCT\n",
      "26S                 ,  20970,  20973, GENE_OR_GENE_PRODUCT\n",
      "GL3                 ,  21163,  21166, GENE_OR_GENE_PRODUCT\n",
      "RHL1                ,  21171,  21175, GENE_OR_GENE_PRODUCT\n",
      "ORA59               ,  22203,  22208, GENE_OR_GENE_PRODUCT\n",
      "ABA                 ,  23452,  23455, GENE_OR_GENE_PRODUCT\n",
      "ABA                 ,  23877,  23880, GENE_OR_GENE_PRODUCT\n",
      "ABA                 ,  24068,  24071, GENE_OR_GENE_PRODUCT\n",
      "ABA                 ,  24174,  24177, GENE_OR_GENE_PRODUCT\n",
      "GTL1                ,  24441,  24445, GENE_OR_GENE_PRODUCT\n",
      "FZR /CCS52          ,  24494,  24504, GENE_OR_GENE_PRODUCT\n",
      "CYCD3;1             ,  27202,  27209, GENE_OR_GENE_PRODUCT\n",
      "CYCD3;1             ,  27254,  27261, GENE_OR_GENE_PRODUCT\n",
      "CYCD3;1-3           ,  27411,  27420, GENE_OR_GENE_PRODUCT\n",
      "CYCLIN B1;2         ,  27696,  27709, GENE_OR_GENE_PRODUCT\n",
      "CDK                 ,  27838,  27841, GENE_OR_GENE_PRODUCT\n",
      "ICK1/KRP1           ,  27944,  27953, GENE_OR_GENE_PRODUCT\n",
      "ICK1/KRP1           ,  28031,  28040, GENE_OR_GENE_PRODUCT\n",
      "CDK                 ,  28126,  28129, GENE_OR_GENE_PRODUCT\n",
      "CDK                 ,  28358,  28361, GENE_OR_GENE_PRODUCT\n",
      "LOCUS               ,  29122,  29127, GENE_OR_GENE_PRODUCT\n"
     ]
    }
   ],
   "source": [
    "for ent in docs[2].ents:\n",
    "    # Gene symbols appear in the text as complete upper case words\n",
    "    if \"GENE\" in ent.label_ and ent.text.isupper() and len(ent.text) > 2:\n",
    "        print(f\"{ent.text:20s}, {ent.start_char:6}, {ent.end_char:6}, {ent.label_:20s}\")"
   ]
  },
  {
   "cell_type": "markdown",
   "id": "e1f8347f-6495-41bc-bfa7-686f3d17f01d",
   "metadata": {},
   "source": [
    "# Calculate distance matrix between terms based on the whole document"
   ]
  },
  {
   "cell_type": "markdown",
   "id": "9a0da0a8-2276-49c4-b303-da0e2994ee8a",
   "metadata": {},
   "source": [
    "## Compute a distance matrix from the terms start positions"
   ]
  },
  {
   "cell_type": "code",
   "execution_count": null,
   "id": "5d2268f9-bebe-4dd8-9a33-f846843eac3b",
   "metadata": {},
   "outputs": [],
   "source": []
  },
  {
   "cell_type": "markdown",
   "id": "de10bbe3-5cc2-42dd-b60a-53dc93eb214b",
   "metadata": {},
   "source": [
    "## "
   ]
  },
  {
   "cell_type": "code",
   "execution_count": null,
   "id": "d80172cc-ba34-4563-963e-721dc8d71064",
   "metadata": {},
   "outputs": [],
   "source": []
  },
  {
   "cell_type": "code",
   "execution_count": null,
   "id": "f2cb258c-7a3b-4548-ab95-cb4f4e2a1017",
   "metadata": {},
   "outputs": [],
   "source": []
  },
  {
   "cell_type": "markdown",
   "id": "0eebd298-2931-4279-afe0-40d630c4fe8d",
   "metadata": {},
   "source": [
    "# Combine distance information with syntax sentence syntax information\n",
    "\n",
    "__Goal:__ give a direction or a sign to each edge in the network. For instance:   \n",
    "- Is gene A positively or negatively regulated by gene B?   \n",
    "- Is the level/activity of gene A neg/pos influenced by gene B?  \n",
    "This information should come from verbs occuring in sentences where A and B occur together.   \n",
    "\n",
    "Steps:   \n",
    "- label the verbs manually. \n",
    "- train a model to assign a positive/negative regulation.  "
   ]
  },
  {
   "cell_type": "code",
   "execution_count": 12,
   "id": "561f2aa2-44dd-4d70-861c-4e314fc81e80",
   "metadata": {},
   "outputs": [
    {
     "name": "stdout",
     "output_type": "stream",
     "text": [
      "COVID-19 covid-19 NOUN NN nmod XXXX-dd False False\n",
      "has have VERB VBZ aux xxx True True\n",
      "not not PART RB neg xxx True True\n",
      "spared spare VERB VBN ROOT xxxx True False\n",
      "children child NOUN NNS dobj xxxx True False\n",
      ". . PUNCT . punct . False False\n",
      "Since since SCONJ IN case Xxxxx True True\n",
      "March March PROPN NNP nmod Xxxxx True False\n",
      "2020 2020 NUM CD nummod dddd False False\n",
      ", , PUNCT , punct , False False\n"
     ]
    }
   ],
   "source": [
    "for token in docs[2][100:110]:\n",
    "    print(token.text, token.lemma_, token.pos_, token.tag_, token.dep_,\n",
    "            token.shape_, token.is_alpha, token.is_stop)"
   ]
  },
  {
   "cell_type": "markdown",
   "id": "d4855578-202a-4c05-b051-44151c2a7732",
   "metadata": {},
   "source": []
  }
 ],
 "metadata": {
  "kernelspec": {
   "display_name": "Python 3",
   "language": "python",
   "name": "python3"
  },
  "language_info": {
   "codemirror_mode": {
    "name": "ipython",
    "version": 3
   },
   "file_extension": ".py",
   "mimetype": "text/x-python",
   "name": "python",
   "nbconvert_exporter": "python",
   "pygments_lexer": "ipython3",
   "version": "3.6.13"
  }
 },
 "nbformat": 4,
 "nbformat_minor": 5
}

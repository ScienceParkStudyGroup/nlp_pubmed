{
 "cells": [
  {
   "cell_type": "markdown",
   "id": "d62f4f83-928d-4bc8-bcd1-938b1c72a967",
   "metadata": {},
   "source": [
    "# Parse PubMed data in order to get plain text of relevant papers\n",
    "\n",
    "Through the URLs below, PubMed data can be ontained interactively. The idea here is to select papers based on keywords (and perhaps dates, ...) in a first query that results in PMC IDs. After that, the full text of those publications can be ontained one-by-one.\n",
    "\n",
    "These texts can be analyzed by scispacy language modesl that include POS tagging for biological/scienti"
   ]
  },
  {
   "cell_type": "code",
   "execution_count": 1,
   "id": "a7d9fdb1-43d8-4dd7-ac9c-b81cb566a2cf",
   "metadata": {},
   "outputs": [],
   "source": [
    "import os\n",
    "import pandas as pd\n",
    "import numpy as np\n",
    "import scispacy\n",
    "import spacy\n",
    "\n",
    "from utils import perform_query, extract_clean, retrieve_paper"
   ]
  },
  {
   "cell_type": "markdown",
   "id": "e6cd1c5a-6b2d-4deb-858b-1196890ba01d",
   "metadata": {},
   "source": [
    "## Obtain and process data\n",
    "Steps:\n",
    "1. Define a query to search papers\n",
    "2. Call API with that query to obtain all PMC IDs for that query\n",
    "3. Read the full content of tyhose papers one by one\n",
    "4. Pre-process the full text\n",
    "5. Run language model on clean text of body of paper"
   ]
  },
  {
   "cell_type": "code",
   "execution_count": 2,
   "id": "557a12a1-d11c-4c22-925a-a3c0a09882e3",
   "metadata": {},
   "outputs": [],
   "source": [
    "query = 'trichome'\n",
    "IDs = perform_query(query)\n",
    "\n",
    "savetext = True  # Set True if clean text of paper needs to be saved to a text file\n",
    "\n",
    "all_papers = []\n",
    "for ID in IDs:\n",
    "    fname = f'papers/cleantext_{ID}.txt'\n",
    "    \n",
    "    if os.path.exists(fname):\n",
    "        with open(fname, 'r') as f:\n",
    "            cleantext = f.read()\n",
    "    else:  \n",
    "        content = retrieve_paper(ID)\n",
    "        cleantext = extract_clean(content)\n",
    "        if savetext:\n",
    "            with open(fname, 'w') as f:\n",
    "                f.write(cleantext)\n",
    "                \n",
    "    all_papers.append(cleantext)\n",
    "    "
   ]
  },
  {
   "cell_type": "code",
   "execution_count": 3,
   "id": "2b434089-8e19-4a43-b567-1eec8f0ad106",
   "metadata": {},
   "outputs": [],
   "source": [
    "nlp = spacy.load(\"en_ner_bionlp13cg_md\")"
   ]
  },
  {
   "cell_type": "code",
   "execution_count": 4,
   "id": "7943ae60-aa68-4a68-a791-171736de7ed5",
   "metadata": {},
   "outputs": [],
   "source": [
    "docs = [nlp(text) for text in all_papers]\n",
    "len(docs)"
   ]
  },
  {
   "cell_type": "code",
   "execution_count": 14,
   "id": "91b74cd1-ea09-4944-afc6-cbdb1196c85d",
   "metadata": {},
   "outputs": [
    {
     "data": {
      "text/plain": [
       "['PMC8796501',\n",
       " 'PMC8795820',\n",
       " 'PMC8733389',\n",
       " 'PMC8778064',\n",
       " 'PMC8716684',\n",
       " 'PMC8670628',\n",
       " 'PMC8671615',\n",
       " 'PMC8590222',\n",
       " 'PMC8640136',\n",
       " 'PMC8514689',\n",
       " 'PMC8640987']"
      ]
     },
     "execution_count": 14,
     "metadata": {},
     "output_type": "execute_result"
    }
   ],
   "source": []
  },
  {
   "cell_type": "code",
   "execution_count": 6,
   "id": "966422bc-fb5c-421f-9947-28a8668522cd",
   "metadata": {},
   "outputs": [],
   "source": [
    "df_all = pd.DataFrame()\n",
    "for i,doc in enumerate(docs):\n",
    "    # For every entity ('word') you have the actual word, its position in the text, its class/label and the paper where it comes from\n",
    "    df_entities = pd.DataFrame({'text':[ent.text for ent in doc.ents], \n",
    "                            'start':[ent.start_char for ent in doc.ents], \n",
    "                            'label':[ent.label_ for ent in doc.ents],\n",
    "                            'pmcid': [IDs[i]] * len(doc.ents)}\n",
    "                           )\n",
    "    \n",
    "    df_all = pd.concat([df_all, df_entities ])"
   ]
  },
  {
   "cell_type": "code",
   "execution_count": 9,
   "id": "f0f1f356",
   "metadata": {},
   "outputs": [],
   "source": [
    "with open('exclude_terms.txt', 'r') as f:\n",
    "    terms = f.readlines()\n",
    "    terms = [t.replace('\\n','') for t in terms]\n",
    "\n"
   ]
  },
  {
   "cell_type": "code",
   "execution_count": 10,
   "id": "6b357f74-edbf-4591-81bb-27db6005a421",
   "metadata": {},
   "outputs": [
    {
     "name": "stderr",
     "output_type": "stream",
     "text": [
      "/Users/mgalland/opt/miniconda3/envs/nlp/lib/python3.6/site-packages/ipykernel_launcher.py:3: SettingWithCopyWarning: \n",
      "A value is trying to be set on a copy of a slice from a DataFrame.\n",
      "Try using .loc[row_indexer,col_indexer] = value instead\n",
      "\n",
      "See the caveats in the documentation: https://pandas.pydata.org/pandas-docs/stable/user_guide/indexing.html#returning-a-view-versus-a-copy\n",
      "  This is separate from the ipykernel package so we can avoid doing imports until\n",
      "/Users/mgalland/opt/miniconda3/envs/nlp/lib/python3.6/site-packages/ipykernel_launcher.py:5: SettingWithCopyWarning: \n",
      "A value is trying to be set on a copy of a slice from a DataFrame.\n",
      "Try using .loc[row_indexer,col_indexer] = value instead\n",
      "\n",
      "See the caveats in the documentation: https://pandas.pydata.org/pandas-docs/stable/user_guide/indexing.html#returning-a-view-versus-a-copy\n",
      "  \"\"\"\n"
     ]
    }
   ],
   "source": [
    "def remove_unwanted_terms_and_select_genes(df):\n",
    "    df = df.query(\"label == 'GENE_OR_GENE_PRODUCT'\")\n",
    "    df[\"extra\"] = 1\n",
    "    for t in terms:\n",
    "        df[\"extra\"] = df[\"extra\"] * np.array([t not in text_from_ent for text_from_ent in df.text])\n",
    "        \n",
    "    return df[df.extra == 1]\n",
    "        \n",
    "df_filtered = remove_unwanted_terms_and_select_genes(df_all)"
   ]
  },
  {
   "cell_type": "code",
   "execution_count": 11,
   "id": "c9126670-b071-4b35-b9b0-5d446289eede",
   "metadata": {},
   "outputs": [
    {
     "data": {
      "text/html": [
       "<div>\n",
       "<style scoped>\n",
       "    .dataframe tbody tr th:only-of-type {\n",
       "        vertical-align: middle;\n",
       "    }\n",
       "\n",
       "    .dataframe tbody tr th {\n",
       "        vertical-align: top;\n",
       "    }\n",
       "\n",
       "    .dataframe thead th {\n",
       "        text-align: right;\n",
       "    }\n",
       "</style>\n",
       "<table border=\"1\" class=\"dataframe\">\n",
       "  <thead>\n",
       "    <tr style=\"text-align: right;\">\n",
       "      <th></th>\n",
       "      <th>text</th>\n",
       "      <th>start</th>\n",
       "      <th>label</th>\n",
       "      <th>pmcid</th>\n",
       "      <th>extra</th>\n",
       "    </tr>\n",
       "  </thead>\n",
       "  <tbody>\n",
       "    <tr>\n",
       "      <th>18</th>\n",
       "      <td>GL1</td>\n",
       "      <td>1330.0</td>\n",
       "      <td>GENE_OR_GENE_PRODUCT</td>\n",
       "      <td>PMC8796501</td>\n",
       "      <td>1</td>\n",
       "    </tr>\n",
       "    <tr>\n",
       "      <th>19</th>\n",
       "      <td>GL2</td>\n",
       "      <td>1335.0</td>\n",
       "      <td>GENE_OR_GENE_PRODUCT</td>\n",
       "      <td>PMC8796501</td>\n",
       "      <td>1</td>\n",
       "    </tr>\n",
       "    <tr>\n",
       "      <th>20</th>\n",
       "      <td>GL3</td>\n",
       "      <td>1340.0</td>\n",
       "      <td>GENE_OR_GENE_PRODUCT</td>\n",
       "      <td>PMC8796501</td>\n",
       "      <td>1</td>\n",
       "    </tr>\n",
       "    <tr>\n",
       "      <th>21</th>\n",
       "      <td>TESTA</td>\n",
       "      <td>1358.0</td>\n",
       "      <td>GENE_OR_GENE_PRODUCT</td>\n",
       "      <td>PMC8796501</td>\n",
       "      <td>1</td>\n",
       "    </tr>\n",
       "    <tr>\n",
       "      <th>22</th>\n",
       "      <td>TTG1</td>\n",
       "      <td>1372.0</td>\n",
       "      <td>GENE_OR_GENE_PRODUCT</td>\n",
       "      <td>PMC8796501</td>\n",
       "      <td>1</td>\n",
       "    </tr>\n",
       "    <tr>\n",
       "      <th>...</th>\n",
       "      <td>...</td>\n",
       "      <td>...</td>\n",
       "      <td>...</td>\n",
       "      <td>...</td>\n",
       "      <td>...</td>\n",
       "    </tr>\n",
       "    <tr>\n",
       "      <th>357</th>\n",
       "      <td>cuticular fatty acid</td>\n",
       "      <td>24537.0</td>\n",
       "      <td>GENE_OR_GENE_PRODUCT</td>\n",
       "      <td>PMC8640987</td>\n",
       "      <td>1</td>\n",
       "    </tr>\n",
       "    <tr>\n",
       "      <th>361</th>\n",
       "      <td>LAAPPI-MS</td>\n",
       "      <td>24919.0</td>\n",
       "      <td>GENE_OR_GENE_PRODUCT</td>\n",
       "      <td>PMC8640987</td>\n",
       "      <td>1</td>\n",
       "    </tr>\n",
       "    <tr>\n",
       "      <th>379</th>\n",
       "      <td>LAAPPI-MS</td>\n",
       "      <td>25745.0</td>\n",
       "      <td>GENE_OR_GENE_PRODUCT</td>\n",
       "      <td>PMC8640987</td>\n",
       "      <td>1</td>\n",
       "    </tr>\n",
       "    <tr>\n",
       "      <th>384</th>\n",
       "      <td>LAAPPI-MS</td>\n",
       "      <td>26012.0</td>\n",
       "      <td>GENE_OR_GENE_PRODUCT</td>\n",
       "      <td>PMC8640987</td>\n",
       "      <td>1</td>\n",
       "    </tr>\n",
       "    <tr>\n",
       "      <th>385</th>\n",
       "      <td>abiotic factors</td>\n",
       "      <td>26125.0</td>\n",
       "      <td>GENE_OR_GENE_PRODUCT</td>\n",
       "      <td>PMC8640987</td>\n",
       "      <td>1</td>\n",
       "    </tr>\n",
       "  </tbody>\n",
       "</table>\n",
       "<p>987 rows × 5 columns</p>\n",
       "</div>"
      ],
      "text/plain": [
       "                     text    start                 label       pmcid  extra\n",
       "18                    GL1   1330.0  GENE_OR_GENE_PRODUCT  PMC8796501      1\n",
       "19                    GL2   1335.0  GENE_OR_GENE_PRODUCT  PMC8796501      1\n",
       "20                    GL3   1340.0  GENE_OR_GENE_PRODUCT  PMC8796501      1\n",
       "21                  TESTA   1358.0  GENE_OR_GENE_PRODUCT  PMC8796501      1\n",
       "22                   TTG1   1372.0  GENE_OR_GENE_PRODUCT  PMC8796501      1\n",
       "..                    ...      ...                   ...         ...    ...\n",
       "357  cuticular fatty acid  24537.0  GENE_OR_GENE_PRODUCT  PMC8640987      1\n",
       "361             LAAPPI-MS  24919.0  GENE_OR_GENE_PRODUCT  PMC8640987      1\n",
       "379             LAAPPI-MS  25745.0  GENE_OR_GENE_PRODUCT  PMC8640987      1\n",
       "384             LAAPPI-MS  26012.0  GENE_OR_GENE_PRODUCT  PMC8640987      1\n",
       "385       abiotic factors  26125.0  GENE_OR_GENE_PRODUCT  PMC8640987      1\n",
       "\n",
       "[987 rows x 5 columns]"
      ]
     },
     "execution_count": 11,
     "metadata": {},
     "output_type": "execute_result"
    }
   ],
   "source": [
    "df_filtered"
   ]
  },
  {
   "cell_type": "code",
   "execution_count": 12,
   "id": "cca666bd-fbd5-485e-937f-216fdc52c409",
   "metadata": {},
   "outputs": [
    {
     "data": {
      "text/plain": [
       "LAAPPI-MS                 25\n",
       "DGC                       24\n",
       "BR                        13\n",
       "alpha bitter acid         11\n",
       "auxin                     11\n",
       "cyclins                    9\n",
       "Gh14-3                     9\n",
       "GL1                        8\n",
       "GL2                        8\n",
       "GL3                        8\n",
       "C                          7\n",
       "HlPT1L                     6\n",
       "Cyclins                    6\n",
       "HlETC1                     6\n",
       "Ortmannian                 6\n",
       "trichome-enriched          6\n",
       "HpmE031                    6\n",
       "GIS3                       6\n",
       "IX                         5\n",
       "Fig. S6                    5\n",
       "CDK                        5\n",
       "MYB-bHLH-WD40              5\n",
       "pectin                     5\n",
       "GIS2                       5\n",
       "TTG1                       5\n",
       "MYB                        5\n",
       "AaMYB1                     4\n",
       "TCL1                       4\n",
       "cyclin                     4\n",
       "JinqL                      4\n",
       "HlMYB5                     4\n",
       "pectic polysaccharides     4\n",
       "YFP                        4\n",
       "CPC                        4\n",
       "trichome-depleted          4\n",
       "pheophytin                 4\n",
       "S5                         4\n",
       "beta bitter acids          4\n",
       "octacontanoic acid         4\n",
       "F2                         4\n",
       "Name: text, dtype: int64"
      ]
     },
     "execution_count": 12,
     "metadata": {},
     "output_type": "execute_result"
    }
   ],
   "source": [
    "# df_entities.head(20)\n",
    "counts = df_filtered.text.value_counts().sort_values(ascending=False)\n",
    "counts[:40]"
   ]
  },
  {
   "cell_type": "code",
   "execution_count": null,
   "id": "561f2aa2-44dd-4d70-861c-4e314fc81e80",
   "metadata": {},
   "outputs": [
    {
     "name": "stdout",
     "output_type": "stream",
     "text": [
      "    SPACE _SP compound   False False\n",
      "Artemisinin artemisinin NOUN NN nsubjpass Xxxxx True False\n",
      "is be VERB VBZ auxpass xx True True\n",
      "specifically specifically ADV RB advmod xxxx True False\n",
      "biosynthesized biosynthesize VERB VBN ROOT xxxx True False\n",
      "in in ADP IN case xx True True\n",
      "the the DET DT det xxx True True\n",
      "trichomes trichome NOUN NNS nmod xxxx True False\n",
      "of of ADP IN case xx True True\n",
      "leaves leave NOUN NNS nmod xxxx True False\n"
     ]
    }
   ],
   "source": [
    "for token in docs[2][100:110]:\n",
    "    print(token.text, token.lemma_, token.pos_, token.tag_, token.dep_,\n",
    "            token.shape_, token.is_alpha, token.is_stop)"
   ]
  }
 ],
 "metadata": {
  "kernelspec": {
   "display_name": "Python 3 (ipykernel)",
   "language": "python",
   "name": "python3"
  },
  "language_info": {
   "codemirror_mode": {
    "name": "ipython",
    "version": 3
   },
   "file_extension": ".py",
   "mimetype": "text/x-python",
   "name": "python",
   "nbconvert_exporter": "python",
   "pygments_lexer": "ipython3",
   "version": "3.6.13"
  }
 },
 "nbformat": 4,
 "nbformat_minor": 5
}

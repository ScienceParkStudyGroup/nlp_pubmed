{
 "cells": [
  {
   "cell_type": "code",
   "execution_count": 15,
   "id": "a7d9fdb1-43d8-4dd7-ac9c-b81cb566a2cf",
   "metadata": {},
   "outputs": [],
   "source": [
    "import requests\n",
    "import pandas as pd\n",
    "import xml.etree.cElementTree as et"
   ]
  },
  {
   "cell_type": "code",
   "execution_count": 10,
   "id": "10be71cb-f2e3-40bc-9acc-87a446994541",
   "metadata": {},
   "outputs": [],
   "source": [
    "# Get data and write XML (URL should result from a query)\n",
    "response = requests.get(\"https://www.ebi.ac.uk/europepmc/webservices/rest/search?query=p53\")\n",
    "\n",
    "data = response.content.decode()\n",
    "\n",
    "with open(\"my_xml.xml\", 'w') as f:\n",
    "    f.writelines(data)"
   ]
  },
  {
   "cell_type": "code",
   "execution_count": null,
   "id": "d769a0f8-79cb-4c39-b98b-b71b352c8cf6",
   "metadata": {},
   "outputs": [],
   "source": []
  },
  {
   "cell_type": "code",
   "execution_count": 23,
   "id": "557a12a1-d11c-4c22-925a-a3c0a09882e3",
   "metadata": {},
   "outputs": [],
   "source": [
    "# Parse XML and extract sensible tags\n",
    "tree = et.parse(\"my_xml.xml\")\n",
    "root = tree.getroot()\n",
    "\n",
    "IDs = []\n",
    "for pmc in root.iter(\"pmcid\"):\n",
    "    IDs.append(pmc.text)\n",
    "\n",
    "IDs"
   ]
  },
  {
   "cell_type": "code",
   "execution_count": 24,
   "id": "2b434089-8e19-4a43-b567-1eec8f0ad106",
   "metadata": {},
   "outputs": [],
   "source": [
    "# get full text per paper\n",
    "# process that\n",
    "# NLP that with spacy, after loading language model\n"
   ]
  },
  {
   "cell_type": "code",
   "execution_count": null,
   "id": "7943ae60-aa68-4a68-a791-171736de7ed5",
   "metadata": {},
   "outputs": [],
   "source": []
  }
 ],
 "metadata": {
  "kernelspec": {
   "display_name": "Python 3 (ipykernel)",
   "language": "python",
   "name": "python3"
  },
  "language_info": {
   "codemirror_mode": {
    "name": "ipython",
    "version": 3
   },
   "file_extension": ".py",
   "mimetype": "text/x-python",
   "name": "python",
   "nbconvert_exporter": "python",
   "pygments_lexer": "ipython3",
   "version": "3.9.7"
  }
 },
 "nbformat": 4,
 "nbformat_minor": 5
}

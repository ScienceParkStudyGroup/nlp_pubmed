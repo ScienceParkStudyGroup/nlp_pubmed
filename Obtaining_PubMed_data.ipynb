{
 "cells": [
  {
   "cell_type": "markdown",
   "id": "d62f4f83-928d-4bc8-bcd1-938b1c72a967",
   "metadata": {},
   "source": [
    "# Parse PubMed data in order to get plain text of relevant papers\n",
    "\n",
    "Through the URLs below, PubMed data can be ontained interactively. The idea here is to select papers based on keywords (and perhaps dates, ...) in a first query that results in PMC IDs. After that, the full text of those publications can be ontained one-by-one.\n",
    "\n",
    "These texts can be analyzed by scispacy language modesl that include POS tagging for biological/scienti"
   ]
  },
  {
   "cell_type": "code",
   "execution_count": 26,
   "id": "a7d9fdb1-43d8-4dd7-ac9c-b81cb566a2cf",
   "metadata": {},
   "outputs": [],
   "source": [
    "import requests\n",
    "import pandas as pd\n",
    "import xml.etree.ElementTree as et\n",
    "import regex as re"
   ]
  },
  {
   "cell_type": "code",
   "execution_count": 41,
   "id": "10be71cb-f2e3-40bc-9acc-87a446994541",
   "metadata": {},
   "outputs": [],
   "source": [
    "# Get data and write XML (URL should result from a query)\n",
    "response = requests.get(\"https://www.ebi.ac.uk/europepmc/webservices/rest/search?query=covid-19\")\n",
    "\n",
    "data = response.content.decode()"
   ]
  },
  {
   "cell_type": "code",
   "execution_count": 42,
   "id": "557a12a1-d11c-4c22-925a-a3c0a09882e3",
   "metadata": {},
   "outputs": [
    {
     "name": "stdout",
     "output_type": "stream",
     "text": [
      "['PMC8607916', 'PMC8562401', 'PMC8563347', 'PMC8590950', 'PMC8575090', 'PMC8563592', 'PMC8493542', 'PMC8610737', 'PMC8498363', 'PMC8571104', 'PMC8610734', 'PMC8495000', 'PMC8558759', 'PMC8613003', 'PMC8612724', 'PMC8600803', 'PMC8476974', 'PMC8595926', 'PMC8590489', 'PMC8612713', 'PMC7801096', 'PMC8479323', 'PMC7784826']\n"
     ]
    },
    {
     "data": {
      "text/plain": [
       "23"
      ]
     },
     "execution_count": 42,
     "metadata": {},
     "output_type": "execute_result"
    }
   ],
   "source": [
    "# Parse XML and extract sensible tags\n",
    "root = et.XML(data)\n",
    "\n",
    "IDs = []\n",
    "for pmc in root.iter(\"pmcid\"):\n",
    "    IDs.append(pmc.text)\n",
    "\n",
    "print(IDs)\n",
    "\n",
    "len(IDs)"
   ]
  },
  {
   "cell_type": "code",
   "execution_count": 12,
   "id": "2b434089-8e19-4a43-b567-1eec8f0ad106",
   "metadata": {},
   "outputs": [],
   "source": [
    "# get full text per paper\n",
    "# process that\n",
    "# NLP that with spacy, after loading language model\n"
   ]
  },
  {
   "cell_type": "code",
   "execution_count": 99,
   "id": "7943ae60-aa68-4a68-a791-171736de7ed5",
   "metadata": {},
   "outputs": [],
   "source": [
    "URL = f\"https://www.ebi.ac.uk/europepmc/webservices/rest/{IDs[5]}/fullTextXML\"\n",
    "\n",
    "response = requests.get(URL)\n",
    "data = response.content.decode()"
   ]
  },
  {
   "cell_type": "markdown",
   "id": "d2e8f731-8905-4eb7-9c4b-5e880a49f0fe",
   "metadata": {},
   "source": [
    "# Full XML parsed 'manually'\n",
    "\n",
    "Given the `fullTextXML` we do the following:\n",
    "- Extract only the body: everything between <body> and </body>, which is the paper from introduction to just before the acknowledgements (in the cases I've seen).\n",
    "- Remove tags, while keeping the content for some specific tags, e.g. italic, bold, sup, sub, underline, title, ...\n",
    "- Remove some other tags including their full content, e.g. xref"
   ]
  },
  {
   "cell_type": "code",
   "execution_count": 100,
   "id": "f050c03b-094a-4bdc-aa8f-ff2623c79c63",
   "metadata": {},
   "outputs": [],
   "source": [
    "tag_remove = ['italic', 'bold', 'sup', 'sub', 'underline', 'title', 'sec', 'p',\n",
    "             'list', 'list-item']\n",
    "total_remove = ['xref', 'table-wrap', 'fig', 'label']\n",
    "\n",
    "def extract_clean(text, tag_remove=tag_remove, total_remove=total_remove):\n",
    "    # XML string will come in.\n",
    "    # Everything within <body>...</body> will come out,\n",
    "    # every tag in tag_remove is gone (but content still there),\n",
    "    # every tag in total_remove is gone, with it contents also removed,\n",
    "    # every special character removed, e.g. &#x0003e;\n",
    "    # Line breaks replaced by spaces.\n",
    "    # Opening tags may have extra info, removed through regex: \n",
    "    # e.g. '<xref[\\s\\S]*?>' removes tags like <xref rid=\"ppat.100...>\n",
    "    \n",
    "    assert type(text) == str\n",
    "    \n",
    "    if '<body>' not in text: \n",
    "        print(\"Can't find the body, returning nothing!\")\n",
    "        return ''\n",
    "    \n",
    "    body_pos = text.find(\"<body>\") + len(\"<body>\")\n",
    "    end_pos = text.find(\"</body>\")\n",
    "    \n",
    "    text = text[body_pos:end_pos]\n",
    "    \n",
    "    for t in tag_remove:\n",
    "        pattern = f'<{t}[\\s\\S]*?>' \n",
    "        text = re.sub(pattern, ' ', text, count=10000)\n",
    "        pattern = f'</{t}>'\n",
    "        text = re.sub(pattern, ' ', text, count=10000)\n",
    "        \n",
    "    for t in total_remove:\n",
    "        pattern = f'<{t}[\\s\\S]*?>[\\s\\S]*?</{t}>'\n",
    "        text = re.sub(pattern, ' ', text, count=10000)\n",
    "        \n",
    "    pattern = '&#x[\\S]{5};'\n",
    "    text = re.sub(pattern, ' ', text, count=10000)\n",
    "    text = re.sub('\\\\n', ' ', text, count=10000)\n",
    "    \n",
    "    return text"
   ]
  },
  {
   "cell_type": "code",
   "execution_count": 101,
   "id": "39745390-effe-4687-8922-7ea018b73af4",
   "metadata": {},
   "outputs": [],
   "source": [
    "result = extract_clean(data)"
   ]
  },
  {
   "cell_type": "code",
   "execution_count": 102,
   "id": "d7175520-1398-42d0-9ed9-db0eddf71e16",
   "metadata": {},
   "outputs": [
    {
     "data": {
      "text/plain": [
       "' In March 2020, our world entered the COVID-19 era [ ], and we have all since been experiencing waves of the severe acute respiratory syndrome coronavirus 2 (SARS-CoV-2) pandemic [ ]. The effect of COVID-19 on our populations and health care systems has been, and continues to be, significant. The global pandemic has also affected scientific medical publishing, with an acknowledged disrupting effect, including a faster track to peer review and on-line publication for COVID-19 submissions but with stress on the peer review and publication of non-COVID-19 research [ ]. At the recent virtual 69 th  Annual Scientific Meeting of the Cardiac Society of Australia and New Zealand (CSANZ),  Heart, Lung and Circulation  (HLC) presented a joint, invited session with the  European Heart Journal  about their respective journal highlights in 2020, chaired by HLC s Editor-in-Chief Professor A. Robert Denniss. This editorial presents an overview of HLC s highlights in the 2020 volume (Volume 29), including those presented in that session; it also proposes some likely highlights of the current 2021 volume (Volume 30), which ends with this December 2021 edition. How is the COVID-19 pandemic affecting  Heart, Lung and Circulation  content? Is it all about COVID-19 now? Is any other published content also attracting attention?   2020: The First Year of COVID-19  There is no question that COVID-19 dominated the  Heart, Lung and Circulation s  hit-list in 2020, with about half of the combined  top 10  lists of most cited articles (  ), most downloaded articles (  ), and articles with most on-line attention (  ), being directly related to COVID-19. Contributions, all available freely as part of the Journal s online Digital Collection of COVID-19 articles, addressed the acute cardiovascular issues, changes in model of care, and possible long-term implications [ ].     With a high of 25 citations (Scopus) at time of writing, Dhakal  et al.  s narrative review  SARS-CoV-2 Infection and Cardiovascular Disease: COVID-Heart  summarised cardiovascular disease management in COVID-19 patients, including management of fulminant myocarditis, life-threatening arrhythmias and refractory shock [ ]. Arnold s discussion paper, which suggested a possible role of the renin-angiotensin system (RAS) in the pathophysiology of COVID-19 was among the most requested articles [ ], as was Kasal  et al.  s review of COVID-19 and microvascular disease, also with a focus on the RAS [ ].  Changes in models of care were outlined in a series of 10 comprehensive CSANZ Statements in different aspects of cardiovascular practice with a quartet represented in the year s 10 tables relating to interventional cardiology services [ ], acute heart failure and assessing the critically ill [ ], rural and remote cardiology [ ] and cardiac rehabilitation and secondary prevention [ ]. All statements addressed how to provide safe care for all patients and health care workers while managing COVID-19 or the risks of exposure to the SARS-CoV-2 coronavirus.  While telehealth and other e-health initiatives were foreshadowed by Nicholls  et al.  to have positive implications for longer term use beyond the pandemic [ ], concerns were raised about other not-so-positive longer-term implications a  tsunami  of non-COVID-19 acute cardiac conditions as a consequence to a COVID-19-related delay in seeking care for chronic cardiovascular conditions [ , ], as well as the mental health and psychosocial challenges of the pandemic [ ] appreciated all too readily by those of us living in lockdown conditions for extended periods of time.  Perhaps this COVID-19 domination in 2020 should come as no surprise: COVID-19 is at the top (ie, number 1) of the popular US commentator Dr John Mandrola s Top 10 in Cardiology for 2020: Mandrola wrote that:  before 2020, heart disease and cancer dominated medical news: the COVID-19 pandemic reset all that  [ ].    2020: Not Just COVID-19  There  are  other remarkable  non-COVID-19  contributions in the same volume of  Heart, Lung and Circulation . For example, to-date, Zentner  et al.  s co-authored  CSANZ Position Statement on the Management of People with a Fontan Circulation  has been downloaded more times than any other article published in the 2020 volume. It is notable for its truly collaborative approach involving not only a multidisciplinary group of health care providers but also individuals with a Fontan circulation and their families [ ].  The Special Issue for the Year 2020 about Genetic Heart Diseases with esteemed Guest Editors Semsarian (now Editor-in-Chief of  Circulation: Genomic and Precision Medicine ), Atherton and Skinner, has also garnered much interest [ ]. This compilation of commissioned State-of-the-Art reviews, published in April 2020, was intended to be launched at the International Clinical Cardiovascular Genetics Conference meeting since  rescheduled  twice (from May 2020 to May 2021, and then again to May 2022) due to COVID-19 pandemic-related lockdowns and travel restrictions. The most highly requested article in the issue has been Ingles  et al.  s review on genetic testing in inherited heart disease [ ], since referenced in the  American Journal of Preventive Cardiology  s succinct overview of things to know about 10 common cardiovascular disease (CVD) risk factors applicable to preventive cardiology, including genetics [ ]. Ingles  et al.  describe the specifics of genetic testing for a range of disease settings hypertrophic, dilated, restrictive and arrhythmogenic cardiomyopathies, left ventricular non-compaction, catecholaminergic polymorphic ventricular tachycardia, familial hypercholesterolaemia, long QT and Brugada syndromes, and heritable thoracic aortic disease. Given the nuances and challenges of cardiac genetic testing, they advise the consensus is that the best outcomes for the patient and their family are achieved when genetic testing is offered in a specialised multidisciplinary clinic with access to genetic counselling [ ].  Skinner  et al.  s comprehensive review on the clinical and genetic aspects of cardiac ion channelopathies that lead to sudden cardiac death is among the most cited articles in  Heart, Lung and Circulation  within the past 3 years. Cardiac ion channelopathies are described as the prime suspects in sudden death with a negative autopsy; each channelopathy has its own electrocardiographic (ECG) signature, typical mode of presentation, and most-commonly related gene [ ].  Also drawing attention in the Genetic Heart Diseases edition is Bart  et al.  s review on amyloid cardiomyopathy [ ]. Considered an under-diagnosed disorder, amyloid cardiomyopathy is characterised by extracellular deposition of amyloid fibrils that form due to misfolding of secreted light chains or transthyretin protein. Until the very recent advent of disease-modifying treatments, amyloid cardiomyopathy has generally been considered a progressive, and potentially fatal, disease. An  inaugural treatment  for transthyretin amyloid cardiomyopathy, tafamidis (a benzoxazole derivative), is listed as number 3 in the Cleveland Clinic s  Top 10  medical innovations for 2020 [ ]. In recent deliberations for  Heart, Lung and Circulation s  annual Best Review Prize, Bart was Highly Commended as first author of this review.   Heart, Lung and Circulation s  Best Review Prize formally recognises and acknowledges the efforts of early career authors and was first awarded in 2015 [ ]. The Best Review Prize for 2021 (judged for the 2020 volume) was awarded to Harky, a UK-based cardiothoracic surgery registrar, as first author of the narrative review about the rapidly evolving and expanding practice of robotic cardiac surgery [ ], including in coronary revascularisation, mitral valve surgery, atrial fibrillation surgery, left ventricular lead implantation, atrial septal defect closure, and summary for atrial myxoma; the use of robotics in atrial valve surgery is reported to be very much in the early phase of development. Harky  et al.  s review has 19 Scopus citations at time of writing. Also Highly Commended was Thakkar, first author of a systematic review about masked hypertension [ ].  The Journal now also recognises outstanding original research each year with three distinct classes of awards: High Impact Awards, first awarded in 2017 [ ]; the Franklin Rosenfeldt Award, named in honour of this Journal s first Editor-in-Chief, for innovation in clinical research in the field of cardiac and thoracic surgery, first awarded in 2019; and the Cardiovascular Science Award, also first awarded in 2019. Both the Franklin Rosenfeldt Award and the Cardiovascular Science Award recognise outstanding contributions from an Australasian-based author (or authors).  Although  Heart, Lung and Circulation s  High Impact Awards can go to research conducted by authors located anywhere in the world (and address any topic), winners for the 2020 volume (awarded in 2021) were all based in Australia. Two (2) of the three awards related to cardiovascular risk. An award for most citations (15 Scopus citations at time of writing) went to Sultani  et al.  who, in a group of patients who underwent coronary angiography in a prospective cohort study, found that an elevated triglycerides to high density lipoprotein cholesterol (TG/HDL-C) ratio is an independent predictor of long-term all-cause mortality and strongly associated with an increased risk of a major adverse cardiac event [ ]. Tran-Duy  et al.  received a High Impact Award for most downloads they developed a seven-factor risk score that could stratify 5-year risk of cardiovascular disease in an Indigenous Australian cohort to a greater degree compared to a recalibrated Framingham risk score [ ].  The Franklin Rosenfeldt Award for the 2020 volume was awarded jointly to Chatterton  et al.  [ ] for reporting a prospective pilot study of a preoperative predictor of postoperative bleeding (and need for subsequent transfusion) and Royse  et al.  [ ] for presenting early experience of a novel reconstruction for total arterial coronary revascularisation two radial arteries (RA) joined as a Y graft (RARAY).  Regrettably, no Cardiovascular Science Award could be given in 2021 (for the 2020 print year), as there were no qualifying Australasian-authored contributions in that volume. This is disappointing, as this Journal is committed to supporting the cardiovascular science research sector by publishing articles across the spectrum of relevance to cardiovascular health from bench to bedside and beyond. In a Discussion Paper, Climie  et al.  presented the results of an on-line survey of cardiovascular research employees or students conducted in 2019 prior to the COVID-19 pandemic [ ]. They concluded that a lack of strategic funding and long-term job security threatened to have profound effects on cardiovascular researcher retention in Australia. Strategic solutions proposed included: diversification of career pathways and funding sources; and, moving from a competitive to a collaborative culture. The challenges that cardiovascular researchers face is an international concern, with Climie and Marques writing in  Circulation  about the impact, strategies, and opportunities for early and mid-career cardiovascular researchers during the COVID-19 pandemic [ ]. Strategic opportunities including promoting awards, and we hope to receive more submissions in 2022 that can be considered for  Heart, Lung and Circulation  s Cardiovascular Science Award.  On balance, and notwithstanding the arrival of the COVID-19 era, the leading contributions in 2020 include position statements, theme issues, discussion papers on contemporary issues, and award-winning original research and reviews covering a broad range of relevant topical issues including but not only related to COVID-19.  Although 2021 is nearly but not yet complete, and the relevant bibliometric data is to be collected and analysed for some time yet, we are expecting the leading contributions to follow in the same rich vein.    2021: More About COVID-19  2021 has seen further articles about COVID-19 but rather than initial, well-considered pandemic guidance offered by experts and projections and predictions of likely effects to come, we are now seeing original contributions and commentary about the lived experience from the  fields of battle  in Australia and elsewhere in terms of: the acute disease, its manifestations and complications [ ,  ,  ,  ,  ,  ]; the adaptations to and opportunities in COVID-19 care [ , ] and in other care settings [ ]; the effects of the COVID-19 pandemic on diagnostic cardiac procedural volumes [ , ] and cardiac surgery [ , ]; and, more recently, the reported side-effects of COVID-19 vaccination [ , ].  Among the findings reported or reviewed: the echocardiographic manifestations of COVID-19 are many [ ]; troponin elevation was common but clinical sequelae were uncommon in patients with COVID-19 requiring hospitalisation in Australia [ ]; and, atrial fibrillation was determined to be a predictor of mortality in high risk COVID-19 patients [ ].   The Remote Device Interrogation Kiosks (ReDInk)  allow for remote testing of pacemakers and implantable cardioverter-defibrillators in a rural setting [ ], where previously device checks had been performed in face-to-face clinics by visiting cardiologists and technicians. In fact, increased access to telemedicine through novel practice and policy changes is ranked number 7 in the Cleveland Clinic s  Top 10  medical innovations for 2021, with regulators moving quickly to reduce barriers to telehealth, appreciating that these tools can speed access to health care while protecting both health care workers and community members [ ].  O\\'Sullivan  et al.  assessed the early impact caused by the COVID-19 pandemic on cardiac procedure volume in Oceania, finding a significant reduction especially in transoesophageal echocardiography and stress tests [ ]. They say longer term evaluation will be important to assess for negative patient outcomes which may relate to deferral of usual models of care in cardiology. More recently, in a study reported in this edition of the Journal, McNamara  et al.  found their local hospital s early response to the COVID-19 pandemic also led to a documented reduction in cardiac surgery service delivery albeit with no change in urgency or type of surgery [ ].  Reports of myocarditis after COVID-19 vaccination, especially mRNA vaccination, have come to notice thankfully, it is found to be mostly mild, and to respond well to treatment, with relatively rapid symptom improvement [ , ].  Heart, Lung and Circulation  has also published a novel case report from Swiss authors of Takotsubo cardiomyopathy after mRNA COVID-19 vaccination [ ].    2021: Not Just COVID-19  In 2021, as in 2020, there have been CSANZ Position Statements [ , ], as well as landmark guidance documents from experts on enhancing the care of familial hypercholesterolaemia in Australia [ ], and about food consumption to prevent cardiovascular disease [ ]. However, the CSANZ Position Statements have not been about COVID-19 in 2021; rather they have been joint statements endorsed by both CSANZ and the Australian and New Zealand Society of Cardiac and Thoracic Surgeons (ANZSCTS) addressing operational and institutional requirements for transcatheter valve therapies in Australia: a completely new statement for transcatheter mitral valve therapies [ ], and an updated statement for transcatheter aortic valve therapies [ ]. Davies  et al.  comment on the practical application of these standards [ ].  While we await data to indicate which original research articles published in 2021 will have the most impact, one that is already showing promise is a report from the Mackay Heart Failure Study [ ]. At time of writing, the 2020 2021 paper with the most recent online attention, as measured by alternative metrics (PlumX metrics), was about a study conducted in a typical regional centre in Australia and reported good news excellent compliance with guideline directed medical therapy and a good prognosis for most patients in terms of both symptoms and survival [ ].  2021 has seen not just one but two special issues published: first, the Women s Heart Health edition in January 2021 [ ], and more recently, the Vascular Ageing edition [ ], both linked to annual CSANZ Scientific meetings. The Women s Heart Health edition has been freely available as the  sample issue  of  Heart, Lung and Circulation  for all of 2020; Geraghty  et al.  s review on  Cardiovascular disease in women: from pathophysiology to novel and emerging risk factors  has been downloaded more than any other article in the edition [ ]. This review points out that cardiovascular disease pathophysiology differs between the sexes, with women more likely to suffer from microvascular coronary disease, endothelial dysfunction, and heart failure with preserved ejection fraction when compared with men who are more likely to suffer macrovascular disease or heart failure with reduced ejection fraction. Further, that risk factors are often under-recognised and under-treated in women.  The Vascular Ageing edition, linked also to the international Association for Research into Arterial Structure and Physiology (ARTERY) 2021 conference (<ext-link ext-link-type=\"uri\" xlink:href=\"http://arterysociety.org\" id=\"intref0010\">arterysociety.org</ext-link>), has been published as the November 2021 edition. An overarching concept addressed by this special issue is that one s vascular age may differ from one s calendar age, and there are ways that vascular age could not only be measured but also moderated.  Planning forward into 2022,  Heart, Lung and Circulation  has announced a Call for Papers for a Special Issue on Environment, Climate and Cardiovascular Health, with guest editors, Redfern, Ferguson, Figtree, and Raman (<ext-link ext-link-type=\"uri\" xlink:href=\"https://bit.ly/3DleYaX\" id=\"intref0015\">https://bit.ly/3DleYaX</ext-link>), and invite contributions that examine the impact of environment and climate, pollution, extreme weather events and more on cardiovascular health, as well as potential solutions to current and future cardiovascular health impacts.    The COVID-19 Era and the Journal  Overall, in the COVID-19 era-to-date,  Heart, Lung and Circulation  has published on a range of responses to, and more recently, the effects of, the COVID-19 global pandemic on health care services and their utilisation.  Heart, Lung and Circulation  is also publishing on much more, including expert guidance and other articles on current topics of importance or interest in cardiovascular medicine worldwide as identified by expert commentators [ , , , ]. Special Issues address themes from the general (women s heart health; environment, climate and cardiovascular health) to the specific (genetic heart diseases; vascular ageing). As the COVID-19 era transitions from pandemic to post-pandemic, and perhaps endemic, status, this Journal with the invaluable support of our community of readers, authors, researchers, peer reviewers and editors looks forward to publishing further reports related to the responses and activities, interests and needs of the Australasian, regional and global cardiovascular community About COVID-19 but Not Just About COVID-19.  '"
      ]
     },
     "execution_count": 102,
     "metadata": {},
     "output_type": "execute_result"
    }
   ],
   "source": [
    "result\n"
   ]
  },
  {
   "cell_type": "code",
   "execution_count": null,
   "id": "91b74cd1-ea09-4944-afc6-cbdb1196c85d",
   "metadata": {},
   "outputs": [],
   "source": []
  },
  {
   "cell_type": "code",
   "execution_count": null,
   "id": "966422bc-fb5c-421f-9947-28a8668522cd",
   "metadata": {},
   "outputs": [],
   "source": []
  }
 ],
 "metadata": {
  "kernelspec": {
   "display_name": "Python 3 (ipykernel)",
   "language": "python",
   "name": "python3"
  },
  "language_info": {
   "codemirror_mode": {
    "name": "ipython",
    "version": 3
   },
   "file_extension": ".py",
   "mimetype": "text/x-python",
   "name": "python",
   "nbconvert_exporter": "python",
   "pygments_lexer": "ipython3",
   "version": "3.9.7"
  }
 },
 "nbformat": 4,
 "nbformat_minor": 5
}

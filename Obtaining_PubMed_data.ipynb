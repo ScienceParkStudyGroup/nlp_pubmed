{
 "cells": [
  {
   "cell_type": "markdown",
   "id": "d62f4f83-928d-4bc8-bcd1-938b1c72a967",
   "metadata": {},
   "source": [
    "# Parse PubMed data in order to get plain text of relevant papers\n",
    "\n",
    "Through the URLs below, PubMed data can be ontained interactively. The idea here is to select papers based on keywords (and perhaps dates, ...) in a first query that results in PMC IDs. After that, the full text of those publications can be ontained one-by-one.\n",
    "\n",
    "These texts can be analyzed by scispacy language modesl that include POS tagging for biological/scienti"
   ]
  },
  {
   "cell_type": "code",
   "execution_count": 3,
   "id": "a7d9fdb1-43d8-4dd7-ac9c-b81cb566a2cf",
   "metadata": {},
   "outputs": [],
   "source": [
    "import os\n",
    "import pandas as pd\n",
    "import scispacy\n",
    "import spacy\n",
    "\n",
    "from utils import perform_query, extract_clean, retrieve_paper\n"
   ]
  },
  {
   "cell_type": "markdown",
   "id": "e6cd1c5a-6b2d-4deb-858b-1196890ba01d",
   "metadata": {},
   "source": [
    "## Obtain and process data\n",
    "Steps:\n",
    "1. Define a query to search papers\n",
    "2. Call API with that query to obtain all PMC IDs for that query\n",
    "3. Read the full content of tyhose papers one by one\n",
    "4. Pre-process the full text\n",
    "5. Run language model on clean text of body of paper"
   ]
  },
  {
   "cell_type": "code",
   "execution_count": 9,
   "id": "557a12a1-d11c-4c22-925a-a3c0a09882e3",
   "metadata": {},
   "outputs": [],
   "source": [
    "query = 'covid-19'\n",
    "IDs = perform_query(query)\n",
    "\n",
    "savetext = True  # Set True if clean text of paper needs to be saved to a text file\n",
    "\n",
    "all_papers = []\n",
    "for ID in IDs:\n",
    "    fname = f'papers/cleantext_{ID}.txt'\n",
    "    \n",
    "    if os.path.exists(fname):\n",
    "        with open(fname, 'r') as f:\n",
    "            cleantext = f.read()\n",
    "    else:  \n",
    "        content = retrieve_paper(ID)\n",
    "        cleantext = extract_clean(content)\n",
    "        if savetext:\n",
    "            with open(fname, 'w') as f:\n",
    "                f.write(cleantext)\n",
    "                \n",
    "    all_papers.append(cleantext)\n",
    "    "
   ]
  },
  {
   "cell_type": "code",
   "execution_count": 6,
   "id": "2b434089-8e19-4a43-b567-1eec8f0ad106",
   "metadata": {},
   "outputs": [],
   "source": [
    "nlp = spacy.load(\"en_ner_bionlp13cg_md\")"
   ]
  },
  {
   "cell_type": "code",
   "execution_count": 7,
   "id": "7943ae60-aa68-4a68-a791-171736de7ed5",
   "metadata": {},
   "outputs": [],
   "source": [
    "docs = [nlp(text) for text in all_papers]"
   ]
  },
  {
   "cell_type": "code",
   "execution_count": 8,
   "id": "91b74cd1-ea09-4944-afc6-cbdb1196c85d",
   "metadata": {},
   "outputs": [
    {
     "data": {
      "text/plain": [
       "25"
      ]
     },
     "execution_count": 8,
     "metadata": {},
     "output_type": "execute_result"
    }
   ],
   "source": [
    "len(docs)"
   ]
  },
  {
   "cell_type": "code",
   "execution_count": 10,
   "id": "966422bc-fb5c-421f-9947-28a8668522cd",
   "metadata": {},
   "outputs": [
    {
     "name": "stdout",
     "output_type": "stream",
     "text": [
      "Wu et al. [ ]       ,     49,     62, ORGANISM            \n",
      "patients            ,    108,    116, ORGANISM            \n",
      "COVID               ,    122,    127, GENE_OR_GENE_PRODUCT\n",
      "pulmonary capillary ,    221,    240, TISSUE              \n",
      "albumin             ,    252,    259, GENE_OR_GENE_PRODUCT\n",
      "capillary           ,    266,    275, TISSUE              \n",
      "COVID               ,    293,    298, GENE_OR_GENE_PRODUCT\n",
      "alveolar epithelial endothelial,    333,    364, CELL                \n",
      "lung                ,    384,    388, ORGAN               \n",
      "edema               ,    403,    408, IMMATERIAL_ANATOMICAL_ENTITY\n",
      "COVID 19            ,    562,    570, GENE_OR_GENE_PRODUCT\n",
      "hepatic             ,    589,    596, ORGAN               \n",
      "albumin             ,    610,    617, GENE_OR_GENE_PRODUCT\n",
      "albumin             ,    697,    704, GENE_OR_GENE_PRODUCT\n",
      "plasma albumin      ,    763,    777, ORGANISM_SUBSTANCE  \n",
      "liver albumin       ,    865,    878, CANCER              \n",
      "hepatic             ,    888,    895, ORGAN               \n",
      "albumin             ,    909,    916, GENE_OR_GENE_PRODUCT\n",
      "albumin             ,    939,    946, GENE_OR_GENE_PRODUCT\n",
      "interleukin 6       ,   1076,   1089, GENE_OR_GENE_PRODUCT\n",
      "tumour necrosis factor   ,   1094,   1119, GENE_OR_GENE_PRODUCT\n",
      "COVID               ,   1173,   1178, GENE_OR_GENE_PRODUCT\n",
      "albumin             ,   1203,   1210, GENE_OR_GENE_PRODUCT\n",
      "albumin             ,   1252,   1259, GENE_OR_GENE_PRODUCT\n",
      "plasma              ,   1273,   1279, ORGANISM_SUBSTANCE  \n",
      "albumin             ,   1505,   1512, GENE_OR_GENE_PRODUCT\n",
      "cysteine            ,   1547,   1555, AMINO_ACID          \n",
      "Cys                 ,   1577,   1580, AMINO_ACID          \n",
      "oxygen radicals     ,   1600,   1615, SIMPLE_CHEMICAL     \n",
      "electrophiles       ,   1657,   1670, SIMPLE_CHEMICAL     \n",
      "reactive aldehydes [ ,,   1691,   1713, SIMPLE_CHEMICAL     \n",
      "albumin             ,   1784,   1791, GENE_OR_GENE_PRODUCT\n",
      "albumin             ,   1809,   1816, GENE_OR_GENE_PRODUCT\n",
      "albumin             ,   1929,   1936, GENE_OR_GENE_PRODUCT\n",
      "gp18                ,   1953,   1959, GENE_OR_GENE_PRODUCT\n",
      "gp30                ,   1963,   1967, GENE_OR_GENE_PRODUCT\n",
      "caveolae            ,   1981,   1989, CELLULAR_COMPONENT  \n",
      "endothelial cells   ,   2013,   2030, CELL                \n",
      "lysosomal           ,   2043,   2052, CELLULAR_COMPONENT  \n",
      "COVID               ,   2106,   2111, GENE_OR_GENE_PRODUCT\n",
      "albumin             ,   2164,   2171, GENE_OR_GENE_PRODUCT\n",
      "hepatic             ,   2280,   2287, ORGAN               \n",
      "albumin             ,   2301,   2308, GENE_OR_GENE_PRODUCT\n",
      "albumin             ,   2348,   2355, GENE_OR_GENE_PRODUCT\n",
      "albumin             ,   2376,   2383, GENE_OR_GENE_PRODUCT\n",
      "Wu et al.           ,   2418,   2427, ORGANISM            \n",
      "COVID               ,   2526,   2531, GENE_OR_GENE_PRODUCT\n",
      "alveolar fluid      ,   2607,   2621, TISSUE              \n",
      "endothelial barrier ,   2671,   2690, CELLULAR_COMPONENT  \n",
      "albumin             ,   2751,   2758, GENE_OR_GENE_PRODUCT\n",
      "lung                ,   2803,   2807, ORGAN               \n",
      "albumin             ,   2925,   2932, GENE_OR_GENE_PRODUCT\n",
      "patients            ,   2998,   3006, ORGANISM            \n",
      "COVID               ,   3012,   3017, GENE_OR_GENE_PRODUCT\n",
      "albumin             ,   3090,   3097, GENE_OR_GENE_PRODUCT\n",
      "serum albumin       ,   3130,   3143, ORGANISM_SUBSTANCE  \n",
      "albumin             ,   3193,   3200, GENE_OR_GENE_PRODUCT\n",
      "[ ].                ,   3211,   3215, SIMPLE_CHEMICAL     \n",
      "albumin             ,   3260,   3267, GENE_OR_GENE_PRODUCT\n",
      "albumin             ,   3313,   3320, GENE_OR_GENE_PRODUCT\n",
      "COVID 19            ,   3378,   3386, GENE_OR_GENE_PRODUCT\n",
      "albumin             ,   3404,   3411, GENE_OR_GENE_PRODUCT\n",
      "albumin Cys         ,   3493,   3504, GENE_OR_GENE_PRODUCT\n",
      "endothelial         ,   3572,   3583, CELL                \n",
      "albumin             ,   3595,   3602, GENE_OR_GENE_PRODUCT\n"
     ]
    }
   ],
   "source": [
    "for ent in docs[2].ents:\n",
    "    print(f\"{ent.text:20s}, {ent.start_char:6}, {ent.end_char:6}, {ent.label_:20s}\")"
   ]
  },
  {
   "cell_type": "code",
   "execution_count": 12,
   "id": "561f2aa2-44dd-4d70-861c-4e314fc81e80",
   "metadata": {},
   "outputs": [
    {
     "name": "stdout",
     "output_type": "stream",
     "text": [
      "COVID-19 covid-19 NOUN NN nmod XXXX-dd False False\n",
      "has have VERB VBZ aux xxx True True\n",
      "not not PART RB neg xxx True True\n",
      "spared spare VERB VBN ROOT xxxx True False\n",
      "children child NOUN NNS dobj xxxx True False\n",
      ". . PUNCT . punct . False False\n",
      "Since since SCONJ IN case Xxxxx True True\n",
      "March March PROPN NNP nmod Xxxxx True False\n",
      "2020 2020 NUM CD nummod dddd False False\n",
      ", , PUNCT , punct , False False\n"
     ]
    }
   ],
   "source": [
    "for token in docs[2][100:110]:\n",
    "    print(token.text, token.lemma_, token.pos_, token.tag_, token.dep_,\n",
    "            token.shape_, token.is_alpha, token.is_stop)"
   ]
  },
  {
   "cell_type": "code",
   "execution_count": 3,
   "id": "9e0ae210-990c-4c37-be30-3ccebf4c4bc3",
   "metadata": {},
   "outputs": [
    {
     "data": {
      "text/plain": [
       "True"
      ]
     },
     "execution_count": 3,
     "metadata": {},
     "output_type": "execute_result"
    }
   ],
   "source": []
  },
  {
   "cell_type": "code",
   "execution_count": null,
   "id": "e89df88a-8f10-4a8e-a1b1-d2e8cfaea79a",
   "metadata": {},
   "outputs": [],
   "source": []
  }
 ],
 "metadata": {
  "kernelspec": {
   "display_name": "Python 3 (ipykernel)",
   "language": "python",
   "name": "python3"
  },
  "language_info": {
   "codemirror_mode": {
    "name": "ipython",
    "version": 3
   },
   "file_extension": ".py",
   "mimetype": "text/x-python",
   "name": "python",
   "nbconvert_exporter": "python",
   "pygments_lexer": "ipython3",
   "version": "3.9.7"
  }
 },
 "nbformat": 4,
 "nbformat_minor": 5
}

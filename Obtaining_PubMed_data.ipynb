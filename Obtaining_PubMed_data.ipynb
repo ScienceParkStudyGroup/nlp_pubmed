{
 "cells": [
  {
   "cell_type": "markdown",
   "id": "d62f4f83-928d-4bc8-bcd1-938b1c72a967",
   "metadata": {},
   "source": [
    "# Parse PubMed data in order to get plain text of relevant papers\n",
    "\n",
    "Through the URLs below, PubMed data can be ontained interactively. The idea here is to select papers based on keywords (and perhaps dates, ...) in a first query that results in PMC IDs. After that, the full text of those publications can be ontained one-by-one.\n",
    "\n",
    "These texts can be analyzed by scispacy language modesl that include POS tagging for biological/scienti"
   ]
  },
  {
   "cell_type": "code",
   "execution_count": 9,
   "id": "a7d9fdb1-43d8-4dd7-ac9c-b81cb566a2cf",
   "metadata": {},
   "outputs": [
    {
     "name": "stdout",
     "output_type": "stream",
     "text": [
      "The autoreload extension is already loaded. To reload it, use:\n",
      "  %reload_ext autoreload\n"
     ]
    }
   ],
   "source": [
    "import os\n",
    "import pandas as pd\n",
    "import numpy as np\n",
    "import scispacy\n",
    "import spacy\n",
    "\n",
    "from utils import perform_query, extract_clean, retrieve_paper"
   ]
  },
  {
   "cell_type": "markdown",
   "id": "e6cd1c5a-6b2d-4deb-858b-1196890ba01d",
   "metadata": {},
   "source": [
    "## Obtain and process data\n",
    "Steps:\n",
    "1. Define a query to search papers\n",
    "2. Call API with that query to obtain all PMC IDs for that query\n",
    "3. Read the full content of tyhose papers one by one\n",
    "4. Pre-process the full text\n",
    "5. Run language model on clean text of body of paper"
   ]
  },
  {
   "cell_type": "code",
   "execution_count": 29,
   "id": "557a12a1-d11c-4c22-925a-a3c0a09882e3",
   "metadata": {},
   "outputs": [
    {
     "name": "stdout",
     "output_type": "stream",
     "text": [
      "Can't find the body, returning nothing!\n",
      "Can't find the body, returning nothing!\n",
      "Can't find the body, returning nothing!\n",
      "Can't find the body, returning nothing!\n",
      "Can't find the body, returning nothing!\n",
      "Can't find the body, returning nothing!\n",
      "Can't find the body, returning nothing!\n",
      "Can't find the body, returning nothing!\n"
     ]
    }
   ],
   "source": [
    "query = 'tomato'\n",
    "IDs = perform_query(query)\n",
    "\n",
    "savetext = True  # Set True if clean text of paper needs to be saved to a text file\n",
    "\n",
    "all_papers = []\n",
    "for ID in IDs:\n",
    "    fname = f'papers/cleantext_{ID}.txt'\n",
    "    \n",
    "    if os.path.exists(fname):\n",
    "        with open(fname, 'r') as f:\n",
    "            cleantext = f.read()\n",
    "    else:  \n",
    "        content = retrieve_paper(ID)\n",
    "        cleantext = extract_clean(content)\n",
    "        if savetext:\n",
    "            with open(fname, 'w') as f:\n",
    "                f.write(cleantext)\n",
    "                \n",
    "    all_papers.append(cleantext)\n",
    "    "
   ]
  },
  {
   "cell_type": "code",
   "execution_count": 30,
   "id": "84a203ab-8daf-46d9-a5e7-88fe2f2632bb",
   "metadata": {},
   "outputs": [],
   "source": [
    "# all_papers"
   ]
  },
  {
   "cell_type": "code",
   "execution_count": 31,
   "id": "2b434089-8e19-4a43-b567-1eec8f0ad106",
   "metadata": {},
   "outputs": [],
   "source": [
    "nlp = spacy.load(\"en_ner_bionlp13cg_md\")"
   ]
  },
  {
   "cell_type": "code",
   "execution_count": 45,
   "id": "7943ae60-aa68-4a68-a791-171736de7ed5",
   "metadata": {},
   "outputs": [],
   "source": [
    "docs = [nlp(text) for text in all_papers]"
   ]
  },
  {
   "cell_type": "code",
   "execution_count": 46,
   "id": "91b74cd1-ea09-4944-afc6-cbdb1196c85d",
   "metadata": {},
   "outputs": [
    {
     "data": {
      "text/plain": [
       "93"
      ]
     },
     "execution_count": 46,
     "metadata": {},
     "output_type": "execute_result"
    }
   ],
   "source": [
    "len(docs)"
   ]
  },
  {
   "cell_type": "code",
   "execution_count": 47,
   "id": "966422bc-fb5c-421f-9947-28a8668522cd",
   "metadata": {},
   "outputs": [],
   "source": [
    "df_all = pd.DataFrame()\n",
    "for doc in docs:\n",
    "    \n",
    "    # print(f\"{ent.text:20s}, {ent.start_char:6}, {ent.end_char:6}, {ent.label_:20s}\")\n",
    "    \n",
    "\n",
    "    df_entities = pd.DataFrame({'text':[ent.text for ent in doc.ents], \n",
    "                            'start':[ent.start_char for ent in doc.ents], \n",
    "                            'label':[ent.label_ for ent in doc.ents]}\n",
    "                           )\n",
    "    \n",
    "    df_all = pd.concat([df_all, df_entities ])"
   ]
  },
  {
   "cell_type": "code",
   "execution_count": 48,
   "id": "ddb0c349-24aa-4504-8005-4f56b92d3c6e",
   "metadata": {},
   "outputs": [
    {
     "data": {
      "text/html": [
       "<div>\n",
       "<style scoped>\n",
       "    .dataframe tbody tr th:only-of-type {\n",
       "        vertical-align: middle;\n",
       "    }\n",
       "\n",
       "    .dataframe tbody tr th {\n",
       "        vertical-align: top;\n",
       "    }\n",
       "\n",
       "    .dataframe thead th {\n",
       "        text-align: right;\n",
       "    }\n",
       "</style>\n",
       "<table border=\"1\" class=\"dataframe\">\n",
       "  <thead>\n",
       "    <tr style=\"text-align: right;\">\n",
       "      <th></th>\n",
       "      <th>text</th>\n",
       "      <th>start</th>\n",
       "      <th>label</th>\n",
       "    </tr>\n",
       "  </thead>\n",
       "  <tbody>\n",
       "    <tr>\n",
       "      <th>0</th>\n",
       "      <td>Christopher Columbus</td>\n",
       "      <td>27.0</td>\n",
       "      <td>ORGANISM</td>\n",
       "    </tr>\n",
       "    <tr>\n",
       "      <th>1</th>\n",
       "      <td>marigold</td>\n",
       "      <td>199.0</td>\n",
       "      <td>ORGANISM_SUBSTANCE</td>\n",
       "    </tr>\n",
       "    <tr>\n",
       "      <th>2</th>\n",
       "      <td>chili peppers</td>\n",
       "      <td>212.0</td>\n",
       "      <td>ORGANISM</td>\n",
       "    </tr>\n",
       "    <tr>\n",
       "      <th>3</th>\n",
       "      <td>Solanum lycopersicum  L.</td>\n",
       "      <td>516.0</td>\n",
       "      <td>ORGANISM</td>\n",
       "    </tr>\n",
       "    <tr>\n",
       "      <th>4</th>\n",
       "      <td>tomatoes</td>\n",
       "      <td>744.0</td>\n",
       "      <td>IMMATERIAL_ANATOMICAL_ENTITY</td>\n",
       "    </tr>\n",
       "    <tr>\n",
       "      <th>...</th>\n",
       "      <td>...</td>\n",
       "      <td>...</td>\n",
       "      <td>...</td>\n",
       "    </tr>\n",
       "    <tr>\n",
       "      <th>318</th>\n",
       "      <td>tomato crop</td>\n",
       "      <td>47306.0</td>\n",
       "      <td>ORGANISM</td>\n",
       "    </tr>\n",
       "    <tr>\n",
       "      <th>319</th>\n",
       "      <td>DDT</td>\n",
       "      <td>47379.0</td>\n",
       "      <td>GENE_OR_GENE_PRODUCT</td>\n",
       "    </tr>\n",
       "    <tr>\n",
       "      <th>320</th>\n",
       "      <td>inorganic synthesis fertilizers while</td>\n",
       "      <td>47480.0</td>\n",
       "      <td>SIMPLE_CHEMICAL</td>\n",
       "    </tr>\n",
       "    <tr>\n",
       "      <th>321</th>\n",
       "      <td>material</td>\n",
       "      <td>47690.0</td>\n",
       "      <td>CELLULAR_COMPONENT</td>\n",
       "    </tr>\n",
       "    <tr>\n",
       "      <th>322</th>\n",
       "      <td>circular</td>\n",
       "      <td>47873.0</td>\n",
       "      <td>ORGAN</td>\n",
       "    </tr>\n",
       "  </tbody>\n",
       "</table>\n",
       "<p>40735 rows × 3 columns</p>\n",
       "</div>"
      ],
      "text/plain": [
       "                                      text    start  \\\n",
       "0                   Christopher Columbus       27.0   \n",
       "1                                 marigold    199.0   \n",
       "2                            chili peppers    212.0   \n",
       "3                 Solanum lycopersicum  L.    516.0   \n",
       "4                                 tomatoes    744.0   \n",
       "..                                     ...      ...   \n",
       "318                            tomato crop  47306.0   \n",
       "319                                    DDT  47379.0   \n",
       "320  inorganic synthesis fertilizers while  47480.0   \n",
       "321                               material  47690.0   \n",
       "322                               circular  47873.0   \n",
       "\n",
       "                            label  \n",
       "0                        ORGANISM  \n",
       "1              ORGANISM_SUBSTANCE  \n",
       "2                        ORGANISM  \n",
       "3                        ORGANISM  \n",
       "4    IMMATERIAL_ANATOMICAL_ENTITY  \n",
       "..                            ...  \n",
       "318                      ORGANISM  \n",
       "319          GENE_OR_GENE_PRODUCT  \n",
       "320               SIMPLE_CHEMICAL  \n",
       "321            CELLULAR_COMPONENT  \n",
       "322                         ORGAN  \n",
       "\n",
       "[40735 rows x 3 columns]"
      ]
     },
     "execution_count": 48,
     "metadata": {},
     "output_type": "execute_result"
    }
   ],
   "source": [
    "df_all"
   ]
  },
  {
   "cell_type": "code",
   "execution_count": null,
   "id": "26cad897-3bf9-457f-aa53-1c0caeda2fa0",
   "metadata": {},
   "outputs": [],
   "source": []
  },
  {
   "cell_type": "code",
   "execution_count": 57,
   "id": "a863a65e-c94a-44e5-8d60-769016f4e1b2",
   "metadata": {},
   "outputs": [
    {
     "data": {
      "text/plain": [
       "['href',\n",
       " 'GUS',\n",
       " 'uri',\n",
       " 'xlink',\n",
       " 'JA',\n",
       " 'GA',\n",
       " 'SA',\n",
       " 'CA',\n",
       " 'CK',\n",
       " 'ABA',\n",
       " 'GFP',\n",
       " 'mml',\n",
       " 'show',\n",
       " 'ext-link']"
      ]
     },
     "execution_count": 57,
     "metadata": {},
     "output_type": "execute_result"
    }
   ],
   "source": [
    "with open('exclude_terms.txt', 'r') as f:\n",
    "    terms = f.readlines()\n",
    "    terms = [t.replace('\\n','') for t in terms]\n",
    "terms "
   ]
  },
  {
   "cell_type": "code",
   "execution_count": 58,
   "id": "6b357f74-edbf-4591-81bb-27db6005a421",
   "metadata": {},
   "outputs": [],
   "source": [
    "def select_genes(df):\n",
    "    df[\"extra\"] = 1\n",
    "    for t in terms:\n",
    "        df[\"extra\"] = df[\"extra\"] * np.array([t not in text_from_ent for text_from_ent in df.text])\n",
    "        \n",
    "    return df[df.extra == 1]\n",
    "        \n",
    "df_filtered = select_genes(df_all)"
   ]
  },
  {
   "cell_type": "code",
   "execution_count": 59,
   "id": "c9126670-b071-4b35-b9b0-5d446289eede",
   "metadata": {},
   "outputs": [
    {
     "data": {
      "text/html": [
       "<div>\n",
       "<style scoped>\n",
       "    .dataframe tbody tr th:only-of-type {\n",
       "        vertical-align: middle;\n",
       "    }\n",
       "\n",
       "    .dataframe tbody tr th {\n",
       "        vertical-align: top;\n",
       "    }\n",
       "\n",
       "    .dataframe thead th {\n",
       "        text-align: right;\n",
       "    }\n",
       "</style>\n",
       "<table border=\"1\" class=\"dataframe\">\n",
       "  <thead>\n",
       "    <tr style=\"text-align: right;\">\n",
       "      <th></th>\n",
       "      <th>text</th>\n",
       "      <th>start</th>\n",
       "      <th>label</th>\n",
       "      <th>extra</th>\n",
       "    </tr>\n",
       "  </thead>\n",
       "  <tbody>\n",
       "    <tr>\n",
       "      <th>0</th>\n",
       "      <td>Christopher Columbus</td>\n",
       "      <td>27.0</td>\n",
       "      <td>ORGANISM</td>\n",
       "      <td>1</td>\n",
       "    </tr>\n",
       "    <tr>\n",
       "      <th>1</th>\n",
       "      <td>marigold</td>\n",
       "      <td>199.0</td>\n",
       "      <td>ORGANISM_SUBSTANCE</td>\n",
       "      <td>1</td>\n",
       "    </tr>\n",
       "    <tr>\n",
       "      <th>2</th>\n",
       "      <td>chili peppers</td>\n",
       "      <td>212.0</td>\n",
       "      <td>ORGANISM</td>\n",
       "      <td>1</td>\n",
       "    </tr>\n",
       "    <tr>\n",
       "      <th>3</th>\n",
       "      <td>Solanum lycopersicum  L.</td>\n",
       "      <td>516.0</td>\n",
       "      <td>ORGANISM</td>\n",
       "      <td>1</td>\n",
       "    </tr>\n",
       "    <tr>\n",
       "      <th>4</th>\n",
       "      <td>tomatoes</td>\n",
       "      <td>744.0</td>\n",
       "      <td>IMMATERIAL_ANATOMICAL_ENTITY</td>\n",
       "      <td>1</td>\n",
       "    </tr>\n",
       "    <tr>\n",
       "      <th>...</th>\n",
       "      <td>...</td>\n",
       "      <td>...</td>\n",
       "      <td>...</td>\n",
       "      <td>...</td>\n",
       "    </tr>\n",
       "    <tr>\n",
       "      <th>318</th>\n",
       "      <td>tomato crop</td>\n",
       "      <td>47306.0</td>\n",
       "      <td>ORGANISM</td>\n",
       "      <td>1</td>\n",
       "    </tr>\n",
       "    <tr>\n",
       "      <th>319</th>\n",
       "      <td>DDT</td>\n",
       "      <td>47379.0</td>\n",
       "      <td>GENE_OR_GENE_PRODUCT</td>\n",
       "      <td>1</td>\n",
       "    </tr>\n",
       "    <tr>\n",
       "      <th>320</th>\n",
       "      <td>inorganic synthesis fertilizers while</td>\n",
       "      <td>47480.0</td>\n",
       "      <td>SIMPLE_CHEMICAL</td>\n",
       "      <td>1</td>\n",
       "    </tr>\n",
       "    <tr>\n",
       "      <th>321</th>\n",
       "      <td>material</td>\n",
       "      <td>47690.0</td>\n",
       "      <td>CELLULAR_COMPONENT</td>\n",
       "      <td>1</td>\n",
       "    </tr>\n",
       "    <tr>\n",
       "      <th>322</th>\n",
       "      <td>circular</td>\n",
       "      <td>47873.0</td>\n",
       "      <td>ORGAN</td>\n",
       "      <td>1</td>\n",
       "    </tr>\n",
       "  </tbody>\n",
       "</table>\n",
       "<p>33610 rows × 4 columns</p>\n",
       "</div>"
      ],
      "text/plain": [
       "                                      text    start  \\\n",
       "0                   Christopher Columbus       27.0   \n",
       "1                                 marigold    199.0   \n",
       "2                            chili peppers    212.0   \n",
       "3                 Solanum lycopersicum  L.    516.0   \n",
       "4                                 tomatoes    744.0   \n",
       "..                                     ...      ...   \n",
       "318                            tomato crop  47306.0   \n",
       "319                                    DDT  47379.0   \n",
       "320  inorganic synthesis fertilizers while  47480.0   \n",
       "321                               material  47690.0   \n",
       "322                               circular  47873.0   \n",
       "\n",
       "                            label  extra  \n",
       "0                        ORGANISM      1  \n",
       "1              ORGANISM_SUBSTANCE      1  \n",
       "2                        ORGANISM      1  \n",
       "3                        ORGANISM      1  \n",
       "4    IMMATERIAL_ANATOMICAL_ENTITY      1  \n",
       "..                            ...    ...  \n",
       "318                      ORGANISM      1  \n",
       "319          GENE_OR_GENE_PRODUCT      1  \n",
       "320               SIMPLE_CHEMICAL      1  \n",
       "321            CELLULAR_COMPONENT      1  \n",
       "322                         ORGAN      1  \n",
       "\n",
       "[33610 rows x 4 columns]"
      ]
     },
     "execution_count": 59,
     "metadata": {},
     "output_type": "execute_result"
    }
   ],
   "source": [
    "df_filtered"
   ]
  },
  {
   "cell_type": "code",
   "execution_count": 37,
   "id": "cca666bd-fbd5-485e-937f-216fdc52c409",
   "metadata": {},
   "outputs": [
    {
     "data": {
      "text/plain": [
       "Series([], Name: text, dtype: int64)"
      ]
     },
     "execution_count": 37,
     "metadata": {},
     "output_type": "execute_result"
    }
   ],
   "source": [
    "# df_entities.head(20)\n",
    "counts = df_all[df_all.label == \"GENE_OR_GENE_PRODUCT\"].text.value_counts().sort_values(ascending=False)\n",
    "counts[:40]"
   ]
  },
  {
   "cell_type": "code",
   "execution_count": 12,
   "id": "561f2aa2-44dd-4d70-861c-4e314fc81e80",
   "metadata": {},
   "outputs": [
    {
     "name": "stdout",
     "output_type": "stream",
     "text": [
      "COVID-19 covid-19 NOUN NN nmod XXXX-dd False False\n",
      "has have VERB VBZ aux xxx True True\n",
      "not not PART RB neg xxx True True\n",
      "spared spare VERB VBN ROOT xxxx True False\n",
      "children child NOUN NNS dobj xxxx True False\n",
      ". . PUNCT . punct . False False\n",
      "Since since SCONJ IN case Xxxxx True True\n",
      "March March PROPN NNP nmod Xxxxx True False\n",
      "2020 2020 NUM CD nummod dddd False False\n",
      ", , PUNCT , punct , False False\n"
     ]
    }
   ],
   "source": [
    "for token in docs[2][100:110]:\n",
    "    print(token.text, token.lemma_, token.pos_, token.tag_, token.dep_,\n",
    "            token.shape_, token.is_alpha, token.is_stop)"
   ]
  },
  {
   "cell_type": "code",
   "execution_count": null,
   "id": "9e0ae210-990c-4c37-be30-3ccebf4c4bc3",
   "metadata": {},
   "outputs": [],
   "source": []
  },
  {
   "cell_type": "markdown",
   "id": "08f12374-ade9-416c-ad23-785e0c205f60",
   "metadata": {},
   "source": [
    "# Try locating the Results section from the body to find the associated genes.\n",
    "`<sec id=\"blabla><title>Results</title> ... </sec>`\n",
    "\n",
    "# Perhaps treat review papers differently, or not at all\n",
    "\n",
    "# Use big page size, perhaps loop to nextPageURL?\n",
    "\n"
   ]
  },
  {
   "cell_type": "code",
   "execution_count": null,
   "id": "a342cf76-ab08-42fc-8895-a95d38eed20c",
   "metadata": {},
   "outputs": [],
   "source": []
  },
  {
   "cell_type": "markdown",
   "id": "bcea5593-ec63-434f-a5b6-66fa5be5856c",
   "metadata": {},
   "source": [
    "Dataframe with text, "
   ]
  }
 ],
 "metadata": {
  "kernelspec": {
   "display_name": "Python 3 (ipykernel)",
   "language": "python",
   "name": "python3"
  },
  "language_info": {
   "codemirror_mode": {
    "name": "ipython",
    "version": 3
   },
   "file_extension": ".py",
   "mimetype": "text/x-python",
   "name": "python",
   "nbconvert_exporter": "python",
   "pygments_lexer": "ipython3",
   "version": "3.9.7"
  }
 },
 "nbformat": 4,
 "nbformat_minor": 5
}
